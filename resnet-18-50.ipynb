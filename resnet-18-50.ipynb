{
 "cells": [
  {
   "cell_type": "code",
   "execution_count": 1,
   "id": "96dff1aa",
   "metadata": {
    "execution": {
     "iopub.execute_input": "2021-11-28T15:16:28.393037Z",
     "iopub.status.busy": "2021-11-28T15:16:28.391520Z",
     "iopub.status.idle": "2021-11-28T15:16:30.367147Z",
     "shell.execute_reply": "2021-11-28T15:16:30.366396Z",
     "shell.execute_reply.started": "2021-11-28T13:27:19.930321Z"
    },
    "papermill": {
     "duration": 2.000441,
     "end_time": "2021-11-28T15:16:30.367340",
     "exception": false,
     "start_time": "2021-11-28T15:16:28.366899",
     "status": "completed"
    },
    "tags": []
   },
   "outputs": [],
   "source": [
    "import numpy as np \n",
    "import matplotlib.pyplot as plt\n",
    "%matplotlib inline \n",
    "import torch \n",
    "import torch.nn as nn\n",
    "from torch.nn import functional as F\n",
    "import torchvision\n",
    "from torchvision import datasets, models, transforms\n",
    "import torch.optim as optim\n",
    "from torch.autograd import Variable\n",
    "import time\n",
    "import copy\n",
    "from PIL import Image\n",
    "input_path = \"../input/data-chamber/DATA_CHAMBER_2021/\" \n"
   ]
  },
  {
   "cell_type": "code",
   "execution_count": 2,
   "id": "c96f2375",
   "metadata": {
    "execution": {
     "iopub.execute_input": "2021-11-28T15:16:30.409422Z",
     "iopub.status.busy": "2021-11-28T15:16:30.408631Z",
     "iopub.status.idle": "2021-11-28T15:16:30.411108Z",
     "shell.execute_reply": "2021-11-28T15:16:30.410658Z",
     "shell.execute_reply.started": "2021-11-28T13:27:21.486663Z"
    },
    "papermill": {
     "duration": 0.024998,
     "end_time": "2021-11-28T15:16:30.411223",
     "exception": false,
     "start_time": "2021-11-28T15:16:30.386225",
     "status": "completed"
    },
    "tags": []
   },
   "outputs": [],
   "source": [
    "class ImageFolderWithPaths(datasets.ImageFolder):\n",
    "    \n",
    "     # Override phương thức __getitem__. Phương thức dùng để đọc, xử lí dữ liệu, nhãn và trả về dữ liệu -> model\n",
    "    def __getitem__(self, index):\n",
    "        # this is what ImageFolder normally returns \n",
    "        original_tuple = super(ImageFolderWithPaths, self).__getitem__(index)\n",
    "        # the image file path\n",
    "        path = self.imgs[index][0]\n",
    "        # make a new tuple that includes original and the path\n",
    "        tuple_with_path = (original_tuple + (path,))\n",
    "        return tuple_with_path"
   ]
  },
  {
   "cell_type": "code",
   "execution_count": 3,
   "id": "2a5c3c75",
   "metadata": {
    "execution": {
     "iopub.execute_input": "2021-11-28T15:16:30.450747Z",
     "iopub.status.busy": "2021-11-28T15:16:30.449994Z",
     "iopub.status.idle": "2021-11-28T15:16:30.452080Z",
     "shell.execute_reply": "2021-11-28T15:16:30.452520Z",
     "shell.execute_reply.started": "2021-11-28T13:27:21.493768Z"
    },
    "papermill": {
     "duration": 0.024035,
     "end_time": "2021-11-28T15:16:30.452646",
     "exception": false,
     "start_time": "2021-11-28T15:16:30.428611",
     "status": "completed"
    },
    "tags": []
   },
   "outputs": [],
   "source": [
    "\n",
    "def set_parameter_requires_grad(model, feature_extracting):\n",
    "    if feature_extracting:\n",
    "        for param in model.parameters():\n",
    "            param.requires_grad = False"
   ]
  },
  {
   "cell_type": "markdown",
   "id": "dd13ef9c",
   "metadata": {
    "papermill": {
     "duration": 0.017679,
     "end_time": "2021-11-28T15:16:30.488343",
     "exception": false,
     "start_time": "2021-11-28T15:16:30.470664",
     "status": "completed"
    },
    "tags": []
   },
   "source": [
    "# Cài đặt mô hình (có sử dụng pretrained)"
   ]
  },
  {
   "cell_type": "code",
   "execution_count": 4,
   "id": "45c38ac4",
   "metadata": {
    "execution": {
     "iopub.execute_input": "2021-11-28T15:16:30.531144Z",
     "iopub.status.busy": "2021-11-28T15:16:30.530327Z",
     "iopub.status.idle": "2021-11-28T15:16:37.775235Z",
     "shell.execute_reply": "2021-11-28T15:16:37.775699Z",
     "shell.execute_reply.started": "2021-11-28T13:27:21.505696Z"
    },
    "papermill": {
     "duration": 7.270282,
     "end_time": "2021-11-28T15:16:37.775924",
     "exception": false,
     "start_time": "2021-11-28T15:16:30.505642",
     "status": "completed"
    },
    "tags": []
   },
   "outputs": [
    {
     "name": "stderr",
     "output_type": "stream",
     "text": [
      "Downloading: \"https://download.pytorch.org/models/resnet50-0676ba61.pth\" to /root/.cache/torch/hub/checkpoints/resnet50-0676ba61.pth\n"
     ]
    },
    {
     "data": {
      "application/vnd.jupyter.widget-view+json": {
       "model_id": "955fb1297b7e42abb2a8a4058d92d604",
       "version_major": 2,
       "version_minor": 0
      },
      "text/plain": [
       "  0%|          | 0.00/97.8M [00:00<?, ?B/s]"
      ]
     },
     "metadata": {},
     "output_type": "display_data"
    }
   ],
   "source": [
    "def initialize_model(model_name, num_classes, feature_extract = False, use_pretrained=True):\n",
    "    # Initialize these variables which will be set in this if statement. Each of these\n",
    "    #   variables is model specific.\n",
    "    model_ft = None\n",
    "    input_size = 0\n",
    "\n",
    "    if model_name == \"resnet18\":\n",
    "        \"\"\" Resnet18\n",
    "        \"\"\"\n",
    "        model_ft = models.resnet18(pretrained=use_pretrained)\n",
    "        set_parameter_requires_grad(model_ft, feature_extract)\n",
    "        num_ftrs = model_ft.fc.in_features\n",
    "        model_ft.fc = nn.Linear(num_ftrs, num_classes)\n",
    "        input_size = 224\n",
    "        \n",
    "    elif model_name == \"resnet50\":\n",
    "        \"\"\" Resnet50\n",
    "        \"\"\"\n",
    "        model_ft = models.resnet50(pretrained=use_pretrained)\n",
    "        set_parameter_requires_grad(model_ft, feature_extract)\n",
    "        num_ftrs = model_ft.fc.in_features\n",
    "        model_ft.fc = nn.Linear(num_ftrs, num_classes)\n",
    "        input_size = 224\n",
    "\n",
    "    elif model_name == \"alexnet\":\n",
    "        \"\"\" Alexnet\n",
    "        \"\"\"\n",
    "        model_ft = models.alexnet(pretrained=use_pretrained)\n",
    "        set_parameter_requires_grad(model_ft, feature_extract)\n",
    "        num_ftrs = model_ft.classifier[6].in_features\n",
    "        model_ft.classifier[6] = nn.Linear(num_ftrs,num_classes)\n",
    "        input_size = 224\n",
    "\n",
    "    elif model_name == \"vgg16_bn\":\n",
    "        \"\"\" VGG16_bn\n",
    "        \"\"\"\n",
    "        model_ft = models.vgg16_bn().load_state_dict(torch.load(\"../input/vgg16bn/vgg16_bn.pth\"))\n",
    "        set_parameter_requires_grad(model_ft, feature_extract)\n",
    "        num_features = vgg16.classifier[6].in_features\n",
    "        features = list(vgg16.classifier.children())[:-1] # Remove last layer\n",
    "        features.extend([nn.Linear(num_features, len(num_classes))]) # Add our layer with 4 outputs\n",
    "        vgg16.classifier = nn.Sequential(*features) # Replace the model classifier\n",
    "        input_size = 224\n",
    "\n",
    "    elif model_name == \"inception\":\n",
    "        \"\"\" Inception v3\n",
    "        Be careful, expects (299,299) sized images and has auxiliary output\n",
    "        \"\"\"\n",
    "        model_ft = models.inception_v3(pretrained=use_pretrained)\n",
    "        set_parameter_requires_grad(model_ft, feature_extract)\n",
    "        # Handle the auxilary net\n",
    "        num_ftrs = model_ft.AuxLogits.fc.in_features\n",
    "        model_ft.AuxLogits.fc = nn.Linear(num_ftrs, num_classes)\n",
    "        # Handle the primary net\n",
    "        num_ftrs = model_ft.fc.in_features\n",
    "        model_ft.fc = nn.Linear(num_ftrs,num_classes)\n",
    "        input_size = 299\n",
    "\n",
    "    else:\n",
    "        print(\"Invalid model name, exiting...\")\n",
    "        exit()\n",
    "\n",
    "    return model_ft, input_size\n",
    "\n",
    "# Initialize the model for this run\n",
    "model_ft, input_size = initialize_model('resnet50',3,feature_extract = False, use_pretrained=True)\n",
    "\n",
    "# Print the model we just instantiated\n",
    "#print(model_ft)"
   ]
  },
  {
   "cell_type": "markdown",
   "id": "23ab8584",
   "metadata": {
    "papermill": {
     "duration": 0.017974,
     "end_time": "2021-11-28T15:16:37.814038",
     "exception": false,
     "start_time": "2021-11-28T15:16:37.796064",
     "status": "completed"
    },
    "tags": []
   },
   "source": [
    "# Resize ảnh về cùng kích cỡ và augmentation"
   ]
  },
  {
   "cell_type": "code",
   "execution_count": 5,
   "id": "6db30cac",
   "metadata": {
    "execution": {
     "iopub.execute_input": "2021-11-28T15:16:37.859919Z",
     "iopub.status.busy": "2021-11-28T15:16:37.859174Z",
     "iopub.status.idle": "2021-11-28T15:16:43.506994Z",
     "shell.execute_reply": "2021-11-28T15:16:43.507453Z",
     "shell.execute_reply.started": "2021-11-28T13:27:27.364052Z"
    },
    "papermill": {
     "duration": 5.675521,
     "end_time": "2021-11-28T15:16:43.507627",
     "exception": false,
     "start_time": "2021-11-28T15:16:37.832106",
     "status": "completed"
    },
    "tags": []
   },
   "outputs": [
    {
     "name": "stdout",
     "output_type": "stream",
     "text": [
      "{'train': <torch.utils.data.dataloader.DataLoader object at 0x7f783b285950>, 'validation': <torch.utils.data.dataloader.DataLoader object at 0x7f783b285f50>}\n"
     ]
    },
    {
     "data": {
      "text/plain": [
       "210"
      ]
     },
     "execution_count": 5,
     "metadata": {},
     "output_type": "execute_result"
    }
   ],
   "source": [
    "data_transforms = {\n",
    "    'train': transforms.Compose([        #Tập train\n",
    "        transforms.Resize(input_size),\n",
    "        transforms.CenterCrop(input_size),\n",
    "        transforms.RandomHorizontalFlip(), #augmentation\n",
    "        transforms.ToTensor(),\n",
    "        transforms.Normalize(mean=[0.485, 0.456, 0.406],\n",
    "                                 std=[0.229, 0.224, 0.225])\n",
    "    ]),\n",
    "    'validation': transforms.Compose([    #Tập test\n",
    "        transforms.Resize(input_size),\n",
    "        transforms.CenterCrop(input_size),\n",
    "        transforms.RandomHorizontalFlip(), #augmentation\n",
    "        transforms.ToTensor(),\n",
    "        transforms.Normalize(mean=[0.485, 0.456, 0.406],\n",
    "                                 std=[0.229, 0.224, 0.225])\n",
    "    ]),\n",
    "}\n",
    "\n",
    "#Load dữ liệu\n",
    "\n",
    "image_datasets = {\n",
    "    'train': \n",
    "    ImageFolderWithPaths(input_path + 'train', data_transforms['train']),\n",
    "    'validation': \n",
    "    ImageFolderWithPaths(input_path + 'test', data_transforms['validation'])\n",
    "}\n",
    "dataset_sizes = {x: len(image_datasets[x]) for x in ['train','validation']}\n",
    "\n",
    "#Chia tập ảnh thành cách batch\n",
    "dataloaders = {\n",
    "    'train':\n",
    "    torch.utils.data.DataLoader(image_datasets['train'],\n",
    "                                batch_size=32,\n",
    "                                shuffle=True,\n",
    "                                num_workers=2),  # for Kaggle, Run 2 processes simultaneously\n",
    "    'validation':\n",
    "    torch.utils.data.DataLoader(image_datasets['validation'],\n",
    "                                batch_size=32,\n",
    "                                shuffle=True,\n",
    "                                num_workers=2)  # for Kaggle\n",
    "}\n",
    "class_names = image_datasets['train'].classes\n",
    "\n",
    "# See some statistics\n",
    "print(dataloaders)\n",
    "len(dataloaders['train'])"
   ]
  },
  {
   "cell_type": "markdown",
   "id": "d4bc6250",
   "metadata": {
    "papermill": {
     "duration": 0.019057,
     "end_time": "2021-11-28T15:16:43.545616",
     "exception": false,
     "start_time": "2021-11-28T15:16:43.526559",
     "status": "completed"
    },
    "tags": []
   },
   "source": [
    "****Visualize a few images****"
   ]
  },
  {
   "cell_type": "code",
   "execution_count": 6,
   "id": "abc874aa",
   "metadata": {
    "execution": {
     "iopub.execute_input": "2021-11-28T15:16:43.591137Z",
     "iopub.status.busy": "2021-11-28T15:16:43.590497Z",
     "iopub.status.idle": "2021-11-28T15:16:45.367073Z",
     "shell.execute_reply": "2021-11-28T15:16:45.366555Z",
     "shell.execute_reply.started": "2021-11-28T13:27:30.101464Z"
    },
    "papermill": {
     "duration": 1.80262,
     "end_time": "2021-11-28T15:16:45.367210",
     "exception": false,
     "start_time": "2021-11-28T15:16:43.564590",
     "status": "completed"
    },
    "tags": []
   },
   "outputs": [
    {
     "data": {
      "image/png": "[encoded data removed]",
      "text/plain": [
       "<Figure size 432x288 with 1 Axes>"
      ]
     },
     "metadata": {
      "needs_background": "light"
     },
     "output_type": "display_data"
    }
   ],
   "source": [
    "import numpy as np\n",
    "import matplotlib.pyplot as plt\n",
    "plt.ion()   # interactive mode\n",
    "\n",
    "def imshow(inp, title=None):\n",
    "    \"\"\"Imshow for Tensor.\"\"\"\n",
    "    inp = inp.numpy().transpose((1, 2, 0))\n",
    "    mean = np.array([0.485, 0.456, 0.406])\n",
    "    std = np.array([0.229, 0.224, 0.225])\n",
    "    inp = std * inp + mean\n",
    "    inp = np.clip(inp, 0, 1)\n",
    "    plt.imshow(inp)\n",
    "    if title is not None:\n",
    "        plt.title(title)\n",
    "    plt.pause(0.001)  # pause a bit so that plots are updated\n",
    "\n",
    "# Get a batch of training data\n",
    "inputs, classes,_ = next(iter(dataloaders['train']))\n",
    "\n",
    "# Make a grid from batch\n",
    "out = torchvision.utils.make_grid(inputs)\n",
    "\n",
    "imshow(out)\n",
    "\n",
    "# imshow(out, title=[class_names[x] for x in classes])"
   ]
  },
  {
   "cell_type": "markdown",
   "id": "27016a0c",
   "metadata": {
    "papermill": {
     "duration": 0.021549,
     "end_time": "2021-11-28T15:16:45.411467",
     "exception": false,
     "start_time": "2021-11-28T15:16:45.389918",
     "status": "completed"
    },
    "tags": []
   },
   "source": [
    "# 2. General functions to train and visualize\n"
   ]
  },
  {
   "cell_type": "markdown",
   "id": "9dfdbdf6",
   "metadata": {
    "papermill": {
     "duration": 0.021873,
     "end_time": "2021-11-28T15:16:45.455306",
     "exception": false,
     "start_time": "2021-11-28T15:16:45.433433",
     "status": "completed"
    },
    "tags": []
   },
   "source": [
    "Here we use a general function to train a model. It includes:\n",
    "* Scheduling the learning rate\n",
    "* Saving the best model."
   ]
  },
  {
   "cell_type": "code",
   "execution_count": 7,
   "id": "eb0b3068",
   "metadata": {
    "execution": {
     "iopub.execute_input": "2021-11-28T15:16:45.514081Z",
     "iopub.status.busy": "2021-11-28T15:16:45.513192Z",
     "iopub.status.idle": "2021-11-28T15:16:45.515013Z",
     "shell.execute_reply": "2021-11-28T15:16:45.515478Z",
     "shell.execute_reply.started": "2021-11-28T13:27:31.972872Z"
    },
    "papermill": {
     "duration": 0.039114,
     "end_time": "2021-11-28T15:16:45.515604",
     "exception": false,
     "start_time": "2021-11-28T15:16:45.476490",
     "status": "completed"
    },
    "tags": []
   },
   "outputs": [],
   "source": [
    "#Training Function\n",
    "def train_model(model, criterion, optimizer, scheduler, num_epochs=2, is_inception=False):\n",
    "    since = time.time()\n",
    "    \n",
    "    best_model_wts = copy.deepcopy(model.state_dict())    #Save the status of pretrained Model\n",
    "    best_acc = 0.0\n",
    "    loss_values = []\n",
    "    acc_values = []\n",
    "    for epoch in range(num_epochs):\n",
    "        print('Epoch {}/{}'.format(epoch + 1, num_epochs))\n",
    "        print('-' * 10)\n",
    "\n",
    "        # Each epoch has a training and validation phase\n",
    "        for phase in ['train','validation']:\n",
    "            train_batches = len(dataloaders[phase])\n",
    "            if phase == 'train':\n",
    "                scheduler.step()\n",
    "                model.train()  # Set model to training mode\n",
    "            else:\n",
    "                model.eval()   # Set model to evaluate mode\n",
    "\n",
    "            running_loss = 0.0      #variable used to calculate loss function\n",
    "            running_corrects = 0    #variable used to calculate accuracy\n",
    "\n",
    "            # Iterate over data.\n",
    "            # inputs==pixels\n",
    "            # labels==labels of frame\n",
    "            # _ == file's path\n",
    "            for i,(inputs, labels,_) in enumerate(dataloaders[phase]):\n",
    "                print(\"\\rTraining batch {}/{}\".format(i+1, train_batches), end='', flush=True)\n",
    "                inputs = inputs.to(device)\n",
    "                labels = labels.to(device)\n",
    "\n",
    "                # zero the parameter gradients\n",
    "                optimizer.zero_grad()\n",
    "\n",
    "                # forward\n",
    "                # track history if only in train\n",
    "                with torch.set_grad_enabled(phase == 'train'):\n",
    "                    # Get model outputs and calculate loss\n",
    "                    # Special case for inception because in training it has an auxiliary output. In train\n",
    "                    # mode we calculate the loss by summing the final output and the auxiliary output\n",
    "                    # but in testing we only consider the final output.\n",
    "                    if is_inception and phase == 'train':  #only for inception model\n",
    "                        # From https://discuss.pytorch.org/t/how-to-optimize-inception-model-with-auxiliary-classifiers/7958\n",
    "                        outputs, aux_outputs = model(inputs)\n",
    "                        loss1 = criterion(outputs, labels)\n",
    "                        loss2 = criterion(aux_outputs, labels)\n",
    "                        loss = loss1 + 0.4*loss2\n",
    "                    else:\n",
    "                        outputs = model(inputs)             #predicted output\n",
    "                        loss = criterion(outputs, labels)   #label==actual output\n",
    "                    \n",
    "                    _, preds = torch.max(outputs, 1) #choose the highest probability\n",
    "\n",
    "                    # backward + optimize only if in training phase\n",
    "                    if phase == 'train':\n",
    "                        loss.backward()\n",
    "                        optimizer.step()    #Update weights for model\n",
    "\n",
    "                # statistics\n",
    "                running_loss += loss.item() * inputs.size(0)\n",
    "                running_corrects += torch.sum(preds == labels.data)\n",
    "\n",
    "            epoch_loss = running_loss / dataset_sizes[phase]\n",
    "            epoch_acc = running_corrects.double() / dataset_sizes[phase]\n",
    "            loss_values.append(epoch_loss)\n",
    "            acc_values.append(epoch_acc)\n",
    "            print('\\n{} Loss: {:.4f} Acc: {:.4f}'.format(\n",
    "                phase, epoch_loss, epoch_acc))\n",
    "\n",
    "            # deep copy the model\n",
    "            if phase == 'validation' and epoch_acc > best_acc:\n",
    "                best_acc = epoch_acc\n",
    "                best_model_wts = copy.deepcopy(model.state_dict())\n",
    "\n",
    "        print()\n",
    "\n",
    "    time_elapsed = time.time() - since\n",
    "    print('Training complete in {:.0f}m {:.0f}s'.format(\n",
    "        time_elapsed // 60, time_elapsed % 60))\n",
    "    print('Best val Acc: {:4f}'.format(best_acc))\n",
    "\n",
    "    # load best model weights\n",
    "    model.load_state_dict(best_model_wts)\n",
    "    return model,acc_values,loss_values"
   ]
  },
  {
   "cell_type": "markdown",
   "id": "1cea96c9",
   "metadata": {
    "papermill": {
     "duration": 0.021441,
     "end_time": "2021-11-28T15:16:45.558314",
     "exception": false,
     "start_time": "2021-11-28T15:16:45.536873",
     "status": "completed"
    },
    "tags": []
   },
   "source": [
    "Visualizing the model predictions\n",
    "A generic function to display predictions for a few images."
   ]
  },
  {
   "cell_type": "code",
   "execution_count": 8,
   "id": "8aa9c23b",
   "metadata": {
    "execution": {
     "iopub.execute_input": "2021-11-28T15:16:45.609856Z",
     "iopub.status.busy": "2021-11-28T15:16:45.609161Z",
     "iopub.status.idle": "2021-11-28T15:16:45.611313Z",
     "shell.execute_reply": "2021-11-28T15:16:45.611727Z",
     "shell.execute_reply.started": "2021-11-28T13:27:31.993238Z"
    },
    "papermill": {
     "duration": 0.031844,
     "end_time": "2021-11-28T15:16:45.611847",
     "exception": false,
     "start_time": "2021-11-28T15:16:45.580003",
     "status": "completed"
    },
    "tags": []
   },
   "outputs": [],
   "source": [
    "#Predict function\n",
    "def visualize_model(model, num_images=6):\n",
    "    was_training = model.training\n",
    "    model.eval()\n",
    "    images_so_far = 0\n",
    "    fig = plt.figure()\n",
    "\n",
    "    with torch.no_grad():\n",
    "        for i, (inputs, labels,_) in enumerate(dataloaders['validation']):\n",
    "            inputs = inputs.to(device)\n",
    "            labels = labels.to(device)\n",
    "\n",
    "            outputs = model(inputs)\n",
    "            _, preds = torch.max(outputs, 1)\n",
    "\n",
    "            for j in range(inputs.size()[0]):\n",
    "                images_so_far += 1\n",
    "                ax = plt.subplot(num_images//2, 2, images_so_far)\n",
    "                ax.axis('off')\n",
    "                ax.set_title('predicted: {}'.format(class_names[preds[j]]))\n",
    "                imshow(inputs.cpu().data[j])\n",
    "\n",
    "                if images_so_far == num_images:\n",
    "                    model.train(mode=was_training)\n",
    "                    return\n",
    "        model.train(mode=was_training)"
   ]
  },
  {
   "cell_type": "markdown",
   "id": "9d3cb022",
   "metadata": {
    "papermill": {
     "duration": 0.021685,
     "end_time": "2021-11-28T15:16:45.654611",
     "exception": false,
     "start_time": "2021-11-28T15:16:45.632926",
     "status": "completed"
    },
    "tags": []
   },
   "source": [
    "# 3. Transfer learning: feature extractor"
   ]
  },
  {
   "cell_type": "markdown",
   "id": "cd0948a0",
   "metadata": {
    "papermill": {
     "duration": 0.02173,
     "end_time": "2021-11-28T15:16:45.697908",
     "exception": false,
     "start_time": "2021-11-28T15:16:45.676178",
     "status": "completed"
    },
    "tags": []
   },
   "source": [
    "ResNet stands for Residual Network. It is an innovative neural network that was first introduced by Kaiming He, Xiangyu Zhang, Shaoqing Ren, and Jian Sun in their 2015 computer vision research paper titled ‘Deep Residual Learning for Image Recognition’.\n",
    "\n",
    "ResNet has many variants that run on the same concept but have different numbers of layers. Resnet50 is used to denote the variant that can work with 50 neural network layers."
   ]
  },
  {
   "cell_type": "markdown",
   "id": "43194ddb",
   "metadata": {
    "papermill": {
     "duration": 0.022044,
     "end_time": "2021-11-28T15:16:45.741438",
     "exception": false,
     "start_time": "2021-11-28T15:16:45.719394",
     "status": "completed"
    },
    "tags": []
   },
   "source": [
    "# 4. Train and evaluate"
   ]
  },
  {
   "cell_type": "code",
   "execution_count": 9,
   "id": "6157b039",
   "metadata": {
    "execution": {
     "iopub.execute_input": "2021-11-28T15:16:45.792064Z",
     "iopub.status.busy": "2021-11-28T15:16:45.791287Z",
     "iopub.status.idle": "2021-11-28T15:16:45.793763Z",
     "shell.execute_reply": "2021-11-28T15:16:45.793331Z",
     "shell.execute_reply.started": "2021-11-28T13:27:32.00717Z"
    },
    "papermill": {
     "duration": 0.030848,
     "end_time": "2021-11-28T15:16:45.793876",
     "exception": false,
     "start_time": "2021-11-28T15:16:45.763028",
     "status": "completed"
    },
    "tags": []
   },
   "outputs": [],
   "source": [
    "def test_model(model, criterion, optimizer):\n",
    "    labels_input=list()\n",
    "    labels_output=list()\n",
    "    vid_id = list()\n",
    "    for phase in ['validation']:\n",
    "        model.eval()\n",
    "\n",
    "        running_loss = 0.0\n",
    "        running_corrects = 0\n",
    "\n",
    "        for inputs, labels, fname in dataloaders[phase]:\n",
    "            inputs = inputs.to(device)\n",
    "            labels = labels.to(device)\n",
    "            labels_input= labels_input + labels.tolist()\n",
    "            for f in fname:\n",
    "                vid_id.append(f.split('/')[-1].split('.')[0].split('_')[0])\n",
    "            outputs = model(inputs)\n",
    "            \n",
    "            loss = criterion(outputs, labels)\n",
    "            _, preds = torch.max(outputs, 1)\n",
    "            \n",
    "            labels_output= labels_output + preds.tolist()\n",
    "    return labels_input,labels_output,vid_id\n",
    "            \n",
    "# y_true,y_pred,vid_id = test_model(model, criterion, optimizer)"
   ]
  },
  {
   "cell_type": "code",
   "execution_count": 10,
   "id": "06ea284d",
   "metadata": {
    "execution": {
     "iopub.execute_input": "2021-11-28T15:16:45.889512Z",
     "iopub.status.busy": "2021-11-28T15:16:45.888849Z",
     "iopub.status.idle": "2021-11-28T15:16:49.432214Z",
     "shell.execute_reply": "2021-11-28T15:16:49.431685Z",
     "shell.execute_reply.started": "2021-11-28T13:27:32.020925Z"
    },
    "papermill": {
     "duration": 3.616163,
     "end_time": "2021-11-28T15:16:49.432370",
     "exception": false,
     "start_time": "2021-11-28T15:16:45.816207",
     "status": "completed"
    },
    "tags": []
   },
   "outputs": [
    {
     "name": "stdout",
     "output_type": "stream",
     "text": [
      "Using CUDA\n"
     ]
    }
   ],
   "source": [
    "\n",
    "from torch.optim import lr_scheduler\n",
    "use_gpu = torch.cuda.is_available()\n",
    "if use_gpu:\n",
    "    print(\"Using CUDA\")\n",
    "\n",
    "device = torch.device(\"cuda:0\" if torch.cuda.is_available() else \"cpu\")\n",
    "\n",
    "model_ft = model_ft.to(device)\n",
    "\n",
    "# Observe that only parameters of final layer are being optimized as\n",
    "# opposed to before.\n",
    "params_to_update = []\n",
    "for name,param in model_ft.named_parameters():\n",
    "    if param.requires_grad == True:\n",
    "        params_to_update.append(param)\n",
    "\n",
    "optimizer_conv = optim.SGD(params_to_update, lr=0.01, momentum=0.9)\n",
    "\n",
    "criterion = nn.CrossEntropyLoss()\n",
    "# Decay LR by a factor of 0.1 every epoch\n",
    "exp_lr_scheduler = lr_scheduler.StepLR(optimizer_conv, step_size=3, gamma=0.1)"
   ]
  },
  {
   "cell_type": "code",
   "execution_count": 11,
   "id": "055a216f",
   "metadata": {
    "execution": {
     "iopub.execute_input": "2021-11-28T15:16:49.483702Z",
     "iopub.status.busy": "2021-11-28T15:16:49.482799Z",
     "iopub.status.idle": "2021-11-28T15:21:51.708458Z",
     "shell.execute_reply": "2021-11-28T15:21:51.708946Z",
     "shell.execute_reply.started": "2021-11-28T13:27:35.229591Z"
    },
    "papermill": {
     "duration": 302.253063,
     "end_time": "2021-11-28T15:21:51.709204",
     "exception": false,
     "start_time": "2021-11-28T15:16:49.456141",
     "status": "completed"
    },
    "tags": []
   },
   "outputs": [
    {
     "name": "stdout",
     "output_type": "stream",
     "text": [
      "Epoch 1/4\n",
      "----------\n"
     ]
    },
    {
     "name": "stderr",
     "output_type": "stream",
     "text": [
      "/opt/conda/lib/python3.7/site-packages/torch/optim/lr_scheduler.py:134: UserWarning: Detected call of `lr_scheduler.step()` before `optimizer.step()`. In PyTorch 1.1.0 and later, you should call them in the opposite order: `optimizer.step()` before `lr_scheduler.step()`.  Failure to do this will result in PyTorch skipping the first value of the learning rate schedule. See more details at https://pytorch.org/docs/stable/optim.html#how-to-adjust-learning-rate\n",
      "  \"https://pytorch.org/docs/stable/optim.html#how-to-adjust-learning-rate\", UserWarning)\n"
     ]
    },
    {
     "name": "stdout",
     "output_type": "stream",
     "text": [
      "Training batch 210/210\n",
      "train Loss: 0.2278 Acc: 0.9101\n",
      "Training batch 51/51\n",
      "validation Loss: 0.6398 Acc: 0.8625\n",
      "\n",
      "Epoch 2/4\n",
      "----------\n",
      "Training batch 210/210\n",
      "train Loss: 0.0102 Acc: 0.9964\n",
      "Training batch 51/51\n",
      "validation Loss: 0.7851 Acc: 0.8040\n",
      "\n",
      "Epoch 3/4\n",
      "----------\n",
      "Training batch 210/210\n",
      "train Loss: 0.0026 Acc: 0.9996\n",
      "Training batch 51/51\n",
      "validation Loss: 0.6168 Acc: 0.8276\n",
      "\n",
      "Epoch 4/4\n",
      "----------\n",
      "Training batch 210/210\n",
      "train Loss: 0.0010 Acc: 1.0000\n",
      "Training batch 51/51\n",
      "validation Loss: 0.6209 Acc: 0.8214\n",
      "\n",
      "Training complete in 5m 2s\n",
      "Best val Acc: 0.862477\n"
     ]
    }
   ],
   "source": [
    "model_ft,acc,loss = train_model(model_ft, criterion, optimizer_conv,\n",
    "                         exp_lr_scheduler, num_epochs=4, is_inception=False) # As an example, only show the results of 4 epoch"
   ]
  },
  {
   "cell_type": "code",
   "execution_count": 12,
   "id": "52489df0",
   "metadata": {
    "execution": {
     "iopub.execute_input": "2021-11-28T15:21:52.310071Z",
     "iopub.status.busy": "2021-11-28T15:21:52.309463Z",
     "iopub.status.idle": "2021-11-28T15:21:54.091729Z",
     "shell.execute_reply": "2021-11-28T15:21:54.091141Z",
     "shell.execute_reply.started": "2021-11-28T13:32:40.004085Z"
    },
    "papermill": {
     "duration": 2.081945,
     "end_time": "2021-11-28T15:21:54.091868",
     "exception": false,
     "start_time": "2021-11-28T15:21:52.009923",
     "status": "completed"
    },
    "tags": []
   },
   "outputs": [
    {
     "data": {
      "image/png": "[encoded data removed]",
      "text/plain": [
       "<Figure size 432x288 with 1 Axes>"
      ]
     },
     "metadata": {
      "needs_background": "light"
     },
     "output_type": "display_data"
    },
    {
     "data": {
      "image/png": "[encoded data removed]",
      "text/plain": [
       "<Figure size 432x288 with 1 Axes>"
      ]
     },
     "metadata": {
      "needs_background": "light"
     },
     "output_type": "display_data"
    },
    {
     "data": {
      "image/png": "[encoded data removed]",
      "text/plain": [
       "<Figure size 432x288 with 1 Axes>"
      ]
     },
     "metadata": {
      "needs_background": "light"
     },
     "output_type": "display_data"
    },
    {
     "data": {
      "image/png": "[encoded data removed]",
      "text/plain": [
       "<Figure size 432x288 with 1 Axes>"
      ]
     },
     "metadata": {
      "needs_background": "light"
     },
     "output_type": "display_data"
    },
    {
     "data": {
      "image/png": "[encoded data removed]",
      "text/plain": [
       "<Figure size 432x288 with 1 Axes>"
      ]
     },
     "metadata": {
      "needs_background": "light"
     },
     "output_type": "display_data"
    },
    {
     "data": {
      "image/png": "[encoded data removed]",
      "text/plain": [
       "<Figure size 432x288 with 1 Axes>"
      ]
     },
     "metadata": {
      "needs_background": "light"
     },
     "output_type": "display_data"
    }
   ],
   "source": [
    "visualize_model(model_ft)\n",
    "\n",
    "plt.ioff()\n",
    "plt.show()"
   ]
  },
  {
   "cell_type": "markdown",
   "id": "e4b27519",
   "metadata": {
    "papermill": {
     "duration": 0.289208,
     "end_time": "2021-11-28T15:21:54.681768",
     "exception": false,
     "start_time": "2021-11-28T15:21:54.392560",
     "status": "completed"
    },
    "tags": []
   },
   "source": [
    "# plot history"
   ]
  },
  {
   "cell_type": "code",
   "execution_count": 13,
   "id": "3ef876b4",
   "metadata": {
    "execution": {
     "iopub.execute_input": "2021-11-28T15:21:55.270282Z",
     "iopub.status.busy": "2021-11-28T15:21:55.269368Z",
     "iopub.status.idle": "2021-11-28T15:21:55.271135Z",
     "shell.execute_reply": "2021-11-28T15:21:55.271581Z",
     "shell.execute_reply.started": "2021-11-28T13:32:41.948692Z"
    },
    "papermill": {
     "duration": 0.300203,
     "end_time": "2021-11-28T15:21:55.271712",
     "exception": false,
     "start_time": "2021-11-28T15:21:54.971509",
     "status": "completed"
    },
    "tags": []
   },
   "outputs": [],
   "source": [
    "def plot_history(history,loss,acc): \n",
    "    fig, ax1 = plt.subplots()\n",
    "    \n",
    "    ax1.plot(loss, 'r', label=\"training loss\")\n",
    "    ax1.grid(True)\n",
    "    ax1.set_xlabel('iteration')\n",
    "    ax1.set_ylabel('loss', color='r')\n",
    "    ax1.legend(loc=\"lower right\", fontsize=9)    \n",
    "    ax1.tick_params('y', colors='r')\n",
    "\n",
    "    ax2 = ax1.twinx()\n",
    "    ax2.plot(acc, 'b', label=\"training acc\")\n",
    "    ax2.legend(loc=\"upper right\", fontsize=9)\n",
    "    ax2.set_ylabel('acc', color='b')        \n",
    "    ax2.tick_params('y', colors='b')\n"
   ]
  },
  {
   "cell_type": "code",
   "execution_count": 14,
   "id": "5418f67d",
   "metadata": {
    "execution": {
     "iopub.execute_input": "2021-11-28T15:21:55.869159Z",
     "iopub.status.busy": "2021-11-28T15:21:55.868567Z",
     "iopub.status.idle": "2021-11-28T15:21:56.176085Z",
     "shell.execute_reply": "2021-11-28T15:21:56.176518Z",
     "shell.execute_reply.started": "2021-11-28T13:32:41.958856Z"
    },
    "papermill": {
     "duration": 0.616841,
     "end_time": "2021-11-28T15:21:56.176670",
     "exception": false,
     "start_time": "2021-11-28T15:21:55.559829",
     "status": "completed"
    },
    "tags": []
   },
   "outputs": [
    {
     "data": {
      "image/png": "[encoded data removed]",
      "text/plain": [
       "<Figure size 432x288 with 2 Axes>"
      ]
     },
     "metadata": {
      "needs_background": "light"
     },
     "output_type": "display_data"
    }
   ],
   "source": [
    "plot_history(model_ft,loss,acc)"
   ]
  },
  {
   "cell_type": "markdown",
   "id": "7dfe0eee",
   "metadata": {
    "papermill": {
     "duration": 0.287499,
     "end_time": "2021-11-28T15:21:56.756039",
     "exception": false,
     "start_time": "2021-11-28T15:21:56.468540",
     "status": "completed"
    },
    "tags": []
   },
   "source": [
    "# Acuracy score in test dataset\n",
    "Frame accuracy"
   ]
  },
  {
   "cell_type": "code",
   "execution_count": 15,
   "id": "24110375",
   "metadata": {
    "execution": {
     "iopub.execute_input": "2021-11-28T15:21:57.367732Z",
     "iopub.status.busy": "2021-11-28T15:21:57.366769Z",
     "iopub.status.idle": "2021-11-28T15:22:10.049427Z",
     "shell.execute_reply": "2021-11-28T15:22:10.048734Z",
     "shell.execute_reply.started": "2021-11-28T13:32:42.281837Z"
    },
    "papermill": {
     "duration": 12.998348,
     "end_time": "2021-11-28T15:22:10.049560",
     "exception": false,
     "start_time": "2021-11-28T15:21:57.051212",
     "status": "completed"
    },
    "tags": []
   },
   "outputs": [
    {
     "data": {
      "text/plain": [
       "0.8462974486621033"
      ]
     },
     "execution_count": 15,
     "metadata": {},
     "output_type": "execute_result"
    }
   ],
   "source": [
    "y_true,y_pred,vid_id = test_model(model_ft, criterion, optimizer_conv)\n",
    "from sklearn.metrics import accuracy_score\n",
    "accuracy_score(y_true,y_pred)"
   ]
  },
  {
   "cell_type": "markdown",
   "id": "bb96844c",
   "metadata": {
    "papermill": {
     "duration": 0.436381,
     "end_time": "2021-11-28T15:22:10.911830",
     "exception": false,
     "start_time": "2021-11-28T15:22:10.475449",
     "status": "completed"
    },
    "tags": []
   },
   "source": [
    "Create a dataframe from ours image label, predictions and video_id of each image (frame)"
   ]
  },
  {
   "cell_type": "code",
   "execution_count": 16,
   "id": "77338bc2",
   "metadata": {
    "execution": {
     "iopub.execute_input": "2021-11-28T15:22:11.516649Z",
     "iopub.status.busy": "2021-11-28T15:22:11.515749Z",
     "iopub.status.idle": "2021-11-28T15:22:11.571683Z",
     "shell.execute_reply": "2021-11-28T15:22:11.571251Z",
     "shell.execute_reply.started": "2021-11-28T13:32:55.422768Z"
    },
    "papermill": {
     "duration": 0.362199,
     "end_time": "2021-11-28T15:22:11.571801",
     "exception": false,
     "start_time": "2021-11-28T15:22:11.209602",
     "status": "completed"
    },
    "tags": []
   },
   "outputs": [],
   "source": [
    "import pandas as pd\n",
    "import glob\n",
    "\n",
    "\n",
    "df = pd.DataFrame(list(zip(y_true,y_pred,vid_id)),columns =['y_true','y_pred','vid_id'])\n",
    "df.to_csv('df.csv',encoding='utf-8',index=False)\n",
    "\n",
    "vid_list = list(set(df['vid_id'].values))\n",
    "y_true = []\n",
    "y_pred = []\n",
    "for vid in vid_list:\n",
    "    #print(vid)\n",
    "    tmp_df = df[df['vid_id']==vid]\n",
    "    #print(len(tmp_df))\n",
    "    vid_pred = tmp_df['y_pred'].mode().values[0]\n",
    "    vid_label = tmp_df['y_true'].mode().values[0]\n",
    "    y_true.append(vid_label)\n",
    "    y_pred.append(vid_pred)"
   ]
  },
  {
   "cell_type": "markdown",
   "id": "507d52a9",
   "metadata": {
    "papermill": {
     "duration": 0.375748,
     "end_time": "2021-11-28T15:22:12.238531",
     "exception": false,
     "start_time": "2021-11-28T15:22:11.862783",
     "status": "completed"
    },
    "tags": []
   },
   "source": [
    "Calculate video acc base on voting scheme\n",
    "\n",
    "Dominant predicted frame's labels will be voted to be video's labels"
   ]
  },
  {
   "cell_type": "code",
   "execution_count": 17,
   "id": "be5f4dfb",
   "metadata": {
    "execution": {
     "iopub.execute_input": "2021-11-28T15:22:13.229242Z",
     "iopub.status.busy": "2021-11-28T15:22:13.228457Z",
     "iopub.status.idle": "2021-11-28T15:22:13.231470Z",
     "shell.execute_reply": "2021-11-28T15:22:13.231926Z",
     "shell.execute_reply.started": "2021-11-28T13:32:55.497151Z"
    },
    "papermill": {
     "duration": 0.514355,
     "end_time": "2021-11-28T15:22:13.232113",
     "exception": false,
     "start_time": "2021-11-28T15:22:12.717758",
     "status": "completed"
    },
    "tags": []
   },
   "outputs": [
    {
     "data": {
      "text/plain": [
       "0.8461538461538461"
      ]
     },
     "execution_count": 17,
     "metadata": {},
     "output_type": "execute_result"
    }
   ],
   "source": [
    "#Tinh toan do chinh xac doi voi video dua tren co che Voting\n",
    "#Chon trong nhieu video xem nhan(label) nao xuat hien nhieu nhat\n",
    "accuracy_score(y_true,y_pred)"
   ]
  }
 ],
 "metadata": {
  "kernelspec": {
   "display_name": "Python 3",
   "language": "python",
   "name": "python3"
  },
  "language_info": {
   "codemirror_mode": {
    "name": "ipython",
    "version": 3
   },
   "file_extension": ".py",
   "mimetype": "text/x-python",
   "name": "python",
   "nbconvert_exporter": "python",
   "pygments_lexer": "ipython3",
   "version": "3.7.10"
  },
  "papermill": {
   "default_parameters": {},
   "duration": 354.768678,
   "end_time": "2021-11-28T15:22:15.043150",
   "environment_variables": {},
   "exception": null,
   "input_path": "__notebook__.ipynb",
   "output_path": "__notebook__.ipynb",
   "parameters": {},
   "start_time": "2021-11-28T15:16:20.274472",
   "version": "2.3.3"
  },
  "widgets": {
   "application/vnd.jupyter.widget-state+json": {
    "state": {
     "0df305901c4247c99f0b40c62d00b486": {
      "model_module": "@jupyter-widgets/controls",
      "model_module_version": "1.5.0",
      "model_name": "FloatProgressModel",
      "state": {
       "_dom_classes": [],
       "_model_module": "@jupyter-widgets/controls",
       "_model_module_version": "1.5.0",
       "_model_name": "FloatProgressModel",
       "_view_count": null,
       "_view_module": "@jupyter-widgets/controls",
       "_view_module_version": "1.5.0",
       "_view_name": "ProgressView",
       "bar_style": "success",
       "description": "",
       "description_tooltip": null,
       "layout": "IPY_MODEL_31014558f6394e41b39f7243cc28a73c",
       "max": 102530333.0,
       "min": 0.0,
       "orientation": "horizontal",
       "style": "IPY_MODEL_e2dc69794f79440d8985998b6c83d3a6",
       "value": 102530333.0
      }
     },
     "162e2e164a0749c9ab60e05cba7eae3f": {
      "model_module": "@jupyter-widgets/controls",
      "model_module_version": "1.5.0",
      "model_name": "HTMLModel",
      "state": {
       "_dom_classes": [],
       "_model_module": "@jupyter-widgets/controls",
       "_model_module_version": "1.5.0",
       "_model_name": "HTMLModel",
       "_view_count": null,
       "_view_module": "@jupyter-widgets/controls",
       "_view_module_version": "1.5.0",
       "_view_name": "HTMLView",
       "description": "",
       "description_tooltip": null,
       "layout": "IPY_MODEL_c51a7154d90c4291978fc9419611c9f1",
       "placeholder": "​",
       "style": "IPY_MODEL_621cc30afcd141d995f615f4bb4b72ec",
       "value": " 97.8M/97.8M [00:06&lt;00:00, 19.0MB/s]"
      }
     },
     "24984b21696e404fb8a5003aa6ee0bcb": {
      "model_module": "@jupyter-widgets/base",
      "model_module_version": "1.2.0",
      "model_name": "LayoutModel",
      "state": {
       "_model_module": "@jupyter-widgets/base",
       "_model_module_version": "1.2.0",
       "_model_name": "LayoutModel",
       "_view_count": null,
       "_view_module": "@jupyter-widgets/base",
       "_view_module_version": "1.2.0",
       "_view_name": "LayoutView",
       "align_content": null,
       "align_items": null,
       "align_self": null,
       "border": null,
       "bottom": null,
       "display": null,
       "flex": null,
       "flex_flow": null,
       "grid_area": null,
       "grid_auto_columns": null,
       "grid_auto_flow": null,
       "grid_auto_rows": null,
       "grid_column": null,
       "grid_gap": null,
       "grid_row": null,
       "grid_template_areas": null,
       "grid_template_columns": null,
       "grid_template_rows": null,
       "height": null,
       "justify_content": null,
       "justify_items": null,
       "left": null,
       "margin": null,
       "max_height": null,
       "max_width": null,
       "min_height": null,
       "min_width": null,
       "object_fit": null,
       "object_position": null,
       "order": null,
       "overflow": null,
       "overflow_x": null,
       "overflow_y": null,
       "padding": null,
       "right": null,
       "top": null,
       "visibility": null,
       "width": null
      }
     },
     "31014558f6394e41b39f7243cc28a73c": {
      "model_module": "@jupyter-widgets/base",
      "model_module_version": "1.2.0",
      "model_name": "LayoutModel",
      "state": {
       "_model_module": "@jupyter-widgets/base",
       "_model_module_version": "1.2.0",
       "_model_name": "LayoutModel",
       "_view_count": null,
       "_view_module": "@jupyter-widgets/base",
       "_view_module_version": "1.2.0",
       "_view_name": "LayoutView",
       "align_content": null,
       "align_items": null,
       "align_self": null,
       "border": null,
       "bottom": null,
       "display": null,
       "flex": null,
       "flex_flow": null,
       "grid_area": null,
       "grid_auto_columns": null,
       "grid_auto_flow": null,
       "grid_auto_rows": null,
       "grid_column": null,
       "grid_gap": null,
       "grid_row": null,
       "grid_template_areas": null,
       "grid_template_columns": null,
       "grid_template_rows": null,
       "height": null,
       "justify_content": null,
       "justify_items": null,
       "left": null,
       "margin": null,
       "max_height": null,
       "max_width": null,
       "min_height": null,
       "min_width": null,
       "object_fit": null,
       "object_position": null,
       "order": null,
       "overflow": null,
       "overflow_x": null,
       "overflow_y": null,
       "padding": null,
       "right": null,
       "top": null,
       "visibility": null,
       "width": null
      }
     },
     "621cc30afcd141d995f615f4bb4b72ec": {
      "model_module": "@jupyter-widgets/controls",
      "model_module_version": "1.5.0",
      "model_name": "DescriptionStyleModel",
      "state": {
       "_model_module": "@jupyter-widgets/controls",
       "_model_module_version": "1.5.0",
       "_model_name": "DescriptionStyleModel",
       "_view_count": null,
       "_view_module": "@jupyter-widgets/base",
       "_view_module_version": "1.2.0",
       "_view_name": "StyleView",
       "description_width": ""
      }
     },
     "8fece8ddb790457f90cf97a19b0209bd": {
      "model_module": "@jupyter-widgets/controls",
      "model_module_version": "1.5.0",
      "model_name": "HTMLModel",
      "state": {
       "_dom_classes": [],
       "_model_module": "@jupyter-widgets/controls",
       "_model_module_version": "1.5.0",
       "_model_name": "HTMLModel",
       "_view_count": null,
       "_view_module": "@jupyter-widgets/controls",
       "_view_module_version": "1.5.0",
       "_view_name": "HTMLView",
       "description": "",
       "description_tooltip": null,
       "layout": "IPY_MODEL_f5a38b4fa663478dbfba02588e391a13",
       "placeholder": "​",
       "style": "IPY_MODEL_e6d2cb73915c45bba059032c0f13c52b",
       "value": "100%"
      }
     },
     "955fb1297b7e42abb2a8a4058d92d604": {
      "model_module": "@jupyter-widgets/controls",
      "model_module_version": "1.5.0",
      "model_name": "HBoxModel",
      "state": {
       "_dom_classes": [],
       "_model_module": "@jupyter-widgets/controls",
       "_model_module_version": "1.5.0",
       "_model_name": "HBoxModel",
       "_view_count": null,
       "_view_module": "@jupyter-widgets/controls",
       "_view_module_version": "1.5.0",
       "_view_name": "HBoxView",
       "box_style": "",
       "children": [
        "IPY_MODEL_8fece8ddb790457f90cf97a19b0209bd",
        "IPY_MODEL_0df305901c4247c99f0b40c62d00b486",
        "IPY_MODEL_162e2e164a0749c9ab60e05cba7eae3f"
       ],
       "layout": "IPY_MODEL_24984b21696e404fb8a5003aa6ee0bcb"
      }
     },
     "c51a7154d90c4291978fc9419611c9f1": {
      "model_module": "@jupyter-widgets/base",
      "model_module_version": "1.2.0",
      "model_name": "LayoutModel",
      "state": {
       "_model_module": "@jupyter-widgets/base",
       "_model_module_version": "1.2.0",
       "_model_name": "LayoutModel",
       "_view_count": null,
       "_view_module": "@jupyter-widgets/base",
       "_view_module_version": "1.2.0",
       "_view_name": "LayoutView",
       "align_content": null,
       "align_items": null,
       "align_self": null,
       "border": null,
       "bottom": null,
       "display": null,
       "flex": null,
       "flex_flow": null,
       "grid_area": null,
       "grid_auto_columns": null,
       "grid_auto_flow": null,
       "grid_auto_rows": null,
       "grid_column": null,
       "grid_gap": null,
       "grid_row": null,
       "grid_template_areas": null,
       "grid_template_columns": null,
       "grid_template_rows": null,
       "height": null,
       "justify_content": null,
       "justify_items": null,
       "left": null,
       "margin": null,
       "max_height": null,
       "max_width": null,
       "min_height": null,
       "min_width": null,
       "object_fit": null,
       "object_position": null,
       "order": null,
       "overflow": null,
       "overflow_x": null,
       "overflow_y": null,
       "padding": null,
       "right": null,
       "top": null,
       "visibility": null,
       "width": null
      }
     },
     "e2dc69794f79440d8985998b6c83d3a6": {
      "model_module": "@jupyter-widgets/controls",
      "model_module_version": "1.5.0",
      "model_name": "ProgressStyleModel",
      "state": {
       "_model_module": "@jupyter-widgets/controls",
       "_model_module_version": "1.5.0",
       "_model_name": "ProgressStyleModel",
       "_view_count": null,
       "_view_module": "@jupyter-widgets/base",
       "_view_module_version": "1.2.0",
       "_view_name": "StyleView",
       "bar_color": null,
       "description_width": ""
      }
     },
     "e6d2cb73915c45bba059032c0f13c52b": {
      "model_module": "@jupyter-widgets/controls",
      "model_module_version": "1.5.0",
      "model_name": "DescriptionStyleModel",
      "state": {
       "_model_module": "@jupyter-widgets/controls",
       "_model_module_version": "1.5.0",
       "_model_name": "DescriptionStyleModel",
       "_view_count": null,
       "_view_module": "@jupyter-widgets/base",
       "_view_module_version": "1.2.0",
       "_view_name": "StyleView",
       "description_width": ""
      }
     },
     "f5a38b4fa663478dbfba02588e391a13": {
      "model_module": "@jupyter-widgets/base",
      "model_module_version": "1.2.0",
      "model_name": "LayoutModel",
      "state": {
       "_model_module": "@jupyter-widgets/base",
       "_model_module_version": "1.2.0",
       "_model_name": "LayoutModel",
       "_view_count": null,
       "_view_module": "@jupyter-widgets/base",
       "_view_module_version": "1.2.0",
       "_view_name": "LayoutView",
       "align_content": null,
       "align_items": null,
       "align_self": null,
       "border": null,
       "bottom": null,
       "display": null,
       "flex": null,
       "flex_flow": null,
       "grid_area": null,
       "grid_auto_columns": null,
       "grid_auto_flow": null,
       "grid_auto_rows": null,
       "grid_column": null,
       "grid_gap": null,
       "grid_row": null,
       "grid_template_areas": null,
       "grid_template_columns": null,
       "grid_template_rows": null,
       "height": null,
       "justify_content": null,
       "justify_items": null,
       "left": null,
       "margin": null,
       "max_height": null,
       "max_width": null,
       "min_height": null,
       "min_width": null,
       "object_fit": null,
       "object_position": null,
       "order": null,
       "overflow": null,
       "overflow_x": null,
       "overflow_y": null,
       "padding": null,
       "right": null,
       "top": null,
       "visibility": null,
       "width": null
      }
     }
    },
    "version_major": 2,
    "version_minor": 0
   }
  }
 },
 "nbformat": 4,
 "nbformat_minor": 5
}
