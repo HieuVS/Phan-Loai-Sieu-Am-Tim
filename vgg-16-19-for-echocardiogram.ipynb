{
 "cells": [
  {
   "cell_type": "code",
   "execution_count": 1,
   "id": "288c0bca",
   "metadata": {
    "_cell_guid": "b1076dfc-b9ad-4769-8c92-a6c4dae69d19",
    "_uuid": "8f2839f25d086af736a60e9eeb907d3b93b6e0e5",
    "execution": {
     "iopub.execute_input": "2021-11-28T14:48:40.754897Z",
     "iopub.status.busy": "2021-11-28T14:48:40.752541Z",
     "iopub.status.idle": "2021-11-28T14:48:44.472733Z",
     "shell.execute_reply": "2021-11-28T14:48:44.473390Z",
     "shell.execute_reply.started": "2021-11-28T14:18:45.699492Z"
    },
    "papermill": {
     "duration": 3.758054,
     "end_time": "2021-11-28T14:48:44.473761",
     "exception": false,
     "start_time": "2021-11-28T14:48:40.715707",
     "status": "completed"
    },
    "tags": []
   },
   "outputs": [
    {
     "data": {
      "text/plain": [
       "<matplotlib.pyplot._IonContext at 0x7f4738946050>"
      ]
     },
     "execution_count": 1,
     "metadata": {},
     "output_type": "execute_result"
    }
   ],
   "source": [
    "from __future__ import print_function, division\n",
    "import numpy as np\n",
    "import matplotlib.pyplot as plt\n",
    "import torch\n",
    "import torch.nn as nn\n",
    "import torch.optim as optim\n",
    "from torch.optim import lr_scheduler\n",
    "from torch.autograd import Variable\n",
    "import torchvision\n",
    "from torchvision import datasets,models,transforms\n",
    "import time\n",
    "import os\n",
    "import copy\n",
    "import cv2\n",
    "from skimage.morphology import (erosion, dilation, opening, closing, white_tophat,disk)\n",
    "\n",
    "plt.ion()  \n"
   ]
  },
  {
   "cell_type": "code",
   "execution_count": 2,
   "id": "7c8824f4",
   "metadata": {
    "execution": {
     "iopub.execute_input": "2021-11-28T14:48:44.539394Z",
     "iopub.status.busy": "2021-11-28T14:48:44.538237Z",
     "iopub.status.idle": "2021-11-28T14:48:44.540738Z",
     "shell.execute_reply": "2021-11-28T14:48:44.541327Z",
     "shell.execute_reply.started": "2021-11-28T14:18:48.872190Z"
    },
    "papermill": {
     "duration": 0.036584,
     "end_time": "2021-11-28T14:48:44.541499",
     "exception": false,
     "start_time": "2021-11-28T14:48:44.504915",
     "status": "completed"
    },
    "tags": []
   },
   "outputs": [],
   "source": [
    "class ImageFolderWithPaths(datasets.ImageFolder):\n",
    "    \"\"\"Custom dataset that includes image file paths. Extends\n",
    "    torchvision.datasets.ImageFolder\n",
    "    \"\"\"\n",
    "\n",
    "    # override the __getitem__ method. this is the method that dataloader calls\n",
    "    def __getitem__(self, index):\n",
    "        # this is what ImageFolder normally returns \n",
    "        original_tuple = super(ImageFolderWithPaths, self).__getitem__(index)\n",
    "        # the image file path\n",
    "        path = self.imgs[index][0]\n",
    "        # make a new tuple that includes original and the path\n",
    "        tuple_with_path = (original_tuple + (path,))\n",
    "        return tuple_with_path"
   ]
  },
  {
   "cell_type": "markdown",
   "id": "638403b2",
   "metadata": {
    "papermill": {
     "duration": 0.026706,
     "end_time": "2021-11-28T14:48:44.596134",
     "exception": false,
     "start_time": "2021-11-28T14:48:44.569428",
     "status": "completed"
    },
    "tags": []
   },
   "source": [
    "# Load train and test data"
   ]
  },
  {
   "cell_type": "code",
   "execution_count": 3,
   "id": "338aa659",
   "metadata": {
    "execution": {
     "iopub.execute_input": "2021-11-28T14:48:44.662252Z",
     "iopub.status.busy": "2021-11-28T14:48:44.661379Z",
     "iopub.status.idle": "2021-11-28T14:48:51.339944Z",
     "shell.execute_reply": "2021-11-28T14:48:51.340533Z",
     "shell.execute_reply.started": "2021-11-28T14:18:48.880199Z"
    },
    "papermill": {
     "duration": 6.717182,
     "end_time": "2021-11-28T14:48:51.340713",
     "exception": false,
     "start_time": "2021-11-28T14:48:44.623531",
     "status": "completed"
    },
    "tags": []
   },
   "outputs": [
    {
     "name": "stdout",
     "output_type": "stream",
     "text": [
      "Loaded 6717 images under train\n",
      "Loaded 1607 images under test\n",
      "Classes: \n",
      "['2C', '3C', '4C']\n"
     ]
    },
    {
     "name": "stderr",
     "output_type": "stream",
     "text": [
      "/opt/conda/lib/python3.7/site-packages/torch/utils/data/dataloader.py:481: UserWarning: This DataLoader will create 4 worker processes in total. Our suggested max number of worker in current system is 2, which is smaller than what this DataLoader is going to create. Please be aware that excessive worker creation might get DataLoader running slow or even freeze, lower the worker number to avoid potential slowness/freeze if necessary.\n",
      "  cpuset_checked))\n"
     ]
    }
   ],
   "source": [
    "data_dir = '../input/data-chamber/DATA_CHAMBER_2021/'\n",
    "TRAIN = 'train'\n",
    "TEST = 'test'\n",
    "VAL = 'val'\n",
    "# VGG-16 Takes 224x224 images as input, so we resize all of them\n",
    "\n",
    "data_transforms = {\n",
    "    TRAIN: transforms.Compose([\n",
    "        transforms.Resize(256),\n",
    "        transforms.RandomResizedCrop(224),\n",
    "        transforms.Grayscale(3),\n",
    "        transforms.RandomHorizontalFlip(),\n",
    "        #transforms.RandomAutocontrast(),\n",
    "        #transforms.RandomAdjustSharpness(),\n",
    "        transforms.ToTensor()]),\n",
    "    TEST: transforms.Compose([\n",
    "        transforms.Resize(224),\n",
    "        transforms.CenterCrop(224),\n",
    "        transforms.ToTensor(),\n",
    "    ])\n",
    "}\n",
    "\n",
    "image_datasets = {\n",
    "    x: ImageFolderWithPaths(\n",
    "        os.path.join(data_dir, x), \n",
    "        transform=data_transforms[x]\n",
    "    )\n",
    "    for x in [TRAIN,TEST]\n",
    "}\n",
    "\n",
    "dataloaders = {\n",
    "    x: torch.utils.data.DataLoader(\n",
    "        image_datasets[x], batch_size=8,\n",
    "        shuffle=True, num_workers=4\n",
    "    )\n",
    "    for x in [TRAIN, TEST]\n",
    "}\n",
    "\n",
    "dataset_sizes = {x: len(image_datasets[x]) for x in [TRAIN,  TEST]}\n",
    "\n",
    "for x in [TRAIN, TEST]:\n",
    "    print(\"Loaded {} images under {}\".format(dataset_sizes[x], x))\n",
    "    \n",
    "print(\"Classes: \")\n",
    "class_names = image_datasets[TRAIN].classes\n",
    "print(image_datasets[TRAIN].classes)"
   ]
  },
  {
   "cell_type": "markdown",
   "id": "aafdd857",
   "metadata": {
    "papermill": {
     "duration": 0.027324,
     "end_time": "2021-11-28T14:48:51.396064",
     "exception": false,
     "start_time": "2021-11-28T14:48:51.368740",
     "status": "completed"
    },
    "tags": []
   },
   "source": [
    "# Show images from a batch"
   ]
  },
  {
   "cell_type": "code",
   "execution_count": 4,
   "id": "063d8fb9",
   "metadata": {
    "execution": {
     "iopub.execute_input": "2021-11-28T14:48:51.459983Z",
     "iopub.status.busy": "2021-11-28T14:48:51.459264Z",
     "iopub.status.idle": "2021-11-28T14:48:52.397892Z",
     "shell.execute_reply": "2021-11-28T14:48:52.396897Z",
     "shell.execute_reply.started": "2021-11-28T14:18:53.992519Z"
    },
    "papermill": {
     "duration": 0.974847,
     "end_time": "2021-11-28T14:48:52.398071",
     "exception": false,
     "start_time": "2021-11-28T14:48:51.423224",
     "status": "completed"
    },
    "tags": []
   },
   "outputs": [
    {
     "data": {
      "image/png": "[encoded data removed]",
      "text/plain": [
       "<Figure size 432x288 with 1 Axes>"
      ]
     },
     "metadata": {
      "needs_background": "light"
     },
     "output_type": "display_data"
    }
   ],
   "source": [
    "def imshow(inp, title=None):\n",
    "    inp = inp.numpy().transpose((1, 2, 0))\n",
    "    # plt.figure(figsize=(10, 10))\n",
    "    plt.axis('off')\n",
    "    plt.imshow(inp)\n",
    "    if title is not None:\n",
    "        plt.title(title)\n",
    "    plt.pause(0.001)\n",
    "\n",
    "def show_databatch(inputs, classes):\n",
    "    out = torchvision.utils.make_grid(inputs)\n",
    "    imshow(out, title=[class_names[x] for x in classes])\n",
    "\n",
    "# Get a batch of training data\n",
    "inputs, classes,_ = next(iter(dataloaders[TRAIN]))\n",
    "show_databatch(inputs, classes)"
   ]
  },
  {
   "cell_type": "code",
   "execution_count": 5,
   "id": "deedcf13",
   "metadata": {
    "execution": {
     "iopub.execute_input": "2021-11-28T14:48:52.466302Z",
     "iopub.status.busy": "2021-11-28T14:48:52.460229Z",
     "iopub.status.idle": "2021-11-28T14:48:52.472935Z",
     "shell.execute_reply": "2021-11-28T14:48:52.472362Z",
     "shell.execute_reply.started": "2021-11-28T14:18:54.960653Z"
    },
    "papermill": {
     "duration": 0.04531,
     "end_time": "2021-11-28T14:48:52.473102",
     "exception": false,
     "start_time": "2021-11-28T14:48:52.427792",
     "status": "completed"
    },
    "tags": []
   },
   "outputs": [],
   "source": [
    "def visualize_model(vgg, num_images=6):\n",
    "    was_training = vgg.training\n",
    "    \n",
    "    # Set model for evaluation\n",
    "    vgg.train(False)\n",
    "    vgg.eval() \n",
    "    \n",
    "    images_so_far = 0\n",
    "\n",
    "    for i, data in enumerate(dataloaders[TEST]):\n",
    "        inputs, labels,_ = data\n",
    "        size = inputs.size()[0]\n",
    "        \n",
    "        if use_gpu:\n",
    "            inputs, labels = Variable(inputs.cuda(), volatile=True), Variable(labels.cuda(), volatile=True)\n",
    "        else:\n",
    "            inputs, labels = Variable(inputs, volatile=True), Variable(labels, volatile=True)\n",
    "        \n",
    "        outputs = vgg(inputs)\n",
    "        \n",
    "        _, preds = torch.max(outputs.data, 1)\n",
    "        predicted_labels = [preds[j] for j in range(inputs.size()[0])]\n",
    "        \n",
    "        print(\"Ground truth:\")\n",
    "        show_databatch(inputs.data.cpu(), labels.data.cpu())\n",
    "        print(\"Prediction:\")\n",
    "        show_databatch(inputs.data.cpu(), predicted_labels)\n",
    "        \n",
    "        del inputs, labels, outputs, preds, predicted_labels\n",
    "        torch.cuda.empty_cache()\n",
    "        \n",
    "        images_so_far += size\n",
    "        if images_so_far >= num_images:\n",
    "            break\n",
    "        \n",
    "    vgg.train(mode=was_training) # Revert model back to original training state"
   ]
  },
  {
   "cell_type": "markdown",
   "id": "59781394",
   "metadata": {
    "papermill": {
     "duration": 0.044048,
     "end_time": "2021-11-28T14:48:52.546926",
     "exception": false,
     "start_time": "2021-11-28T14:48:52.502878",
     "status": "completed"
    },
    "tags": []
   },
   "source": [
    "# Evaluate func\n",
    "This helper function will give us the accuracy of our model on the test set."
   ]
  },
  {
   "cell_type": "code",
   "execution_count": 6,
   "id": "d27964e3",
   "metadata": {
    "execution": {
     "iopub.execute_input": "2021-11-28T14:48:52.697441Z",
     "iopub.status.busy": "2021-11-28T14:48:52.696138Z",
     "iopub.status.idle": "2021-11-28T14:48:52.712161Z",
     "shell.execute_reply": "2021-11-28T14:48:52.713120Z",
     "shell.execute_reply.started": "2021-11-28T14:18:54.975701Z"
    },
    "papermill": {
     "duration": 0.09114,
     "end_time": "2021-11-28T14:48:52.713363",
     "exception": false,
     "start_time": "2021-11-28T14:48:52.622223",
     "status": "completed"
    },
    "tags": []
   },
   "outputs": [],
   "source": [
    "def eval_model(vgg, criterion):\n",
    "    y_true = []\n",
    "    y_pred = []\n",
    "    vid_id = []\n",
    "    since = time.time()\n",
    "    avg_loss = 0\n",
    "    avg_acc = 0\n",
    "    loss_test = 0\n",
    "    acc_test = 0\n",
    "    \n",
    "    test_batches = len(dataloaders[TEST])\n",
    "    print(\"Evaluating model\")\n",
    "    print('-' * 10)\n",
    "    \n",
    "    for i, data in enumerate(dataloaders[TEST]):\n",
    "        if i % 100 == 0:\n",
    "            print(\"\\rTest batch {}/{}\".format(i, test_batches), end='', flush=True)\n",
    "\n",
    "        vgg.train(False)\n",
    "        vgg.eval()\n",
    "        inputs, labels, fname = data\n",
    "        for f in fname:\n",
    "            vid_id.append(f.split('/')[-1].split('.')[0].split('_')[0])\n",
    "        y_true = y_true + labels.tolist()\n",
    "        if use_gpu:\n",
    "            inputs, labels = Variable(inputs.cuda(), volatile=True), Variable(labels.cuda(), volatile=True)\n",
    "        else:\n",
    "            inputs, labels = Variable(inputs, volatile=True), Variable(labels, volatile=True)\n",
    "\n",
    "        outputs = vgg(inputs)\n",
    "\n",
    "        _, preds = torch.max(outputs.data, 1)\n",
    "        loss = criterion(outputs, labels)\n",
    "        #print(preds)\n",
    "        y_pred = y_pred + preds.tolist()\n",
    "        \n",
    "        loss_test += loss.data\n",
    "        acc_test += torch.sum(preds == labels.data)\n",
    "\n",
    "        del inputs, labels, outputs, preds\n",
    "        torch.cuda.empty_cache()\n",
    "        \n",
    "    avg_loss = loss_test / dataset_sizes[TEST]\n",
    "    avg_acc = acc_test / dataset_sizes[TEST]\n",
    "    \n",
    "    elapsed_time = time.time() - since\n",
    "    print()\n",
    "    print(\"Evaluation completed in {:.0f}m {:.0f}s\".format(elapsed_time // 60, elapsed_time % 60))\n",
    "    print(\"Avg loss (test): {:.4f}\".format(avg_loss))\n",
    "    print(\"Avg acc (test): {:.4f}\".format(avg_acc))\n",
    "    print('-' * 10)\n",
    "    return y_true,y_pred,vid_id"
   ]
  },
  {
   "cell_type": "markdown",
   "id": "b91f9de1",
   "metadata": {
    "papermill": {
     "duration": 0.05238,
     "end_time": "2021-11-28T14:48:52.820343",
     "exception": false,
     "start_time": "2021-11-28T14:48:52.767963",
     "status": "completed"
    },
    "tags": []
   },
   "source": [
    "# Load model\n"
   ]
  },
  {
   "cell_type": "code",
   "execution_count": 7,
   "id": "4db2440d",
   "metadata": {
    "execution": {
     "iopub.execute_input": "2021-11-28T14:48:52.928033Z",
     "iopub.status.busy": "2021-11-28T14:48:52.926839Z",
     "iopub.status.idle": "2021-11-28T14:49:01.679806Z",
     "shell.execute_reply": "2021-11-28T14:49:01.678787Z",
     "shell.execute_reply.started": "2021-11-28T14:18:54.991299Z"
    },
    "papermill": {
     "duration": 8.810916,
     "end_time": "2021-11-28T14:49:01.680046",
     "exception": false,
     "start_time": "2021-11-28T14:48:52.869130",
     "status": "completed"
    },
    "tags": []
   },
   "outputs": [
    {
     "name": "stdout",
     "output_type": "stream",
     "text": [
      "1000\n"
     ]
    }
   ],
   "source": [
    "vgg16 = models.vgg16_bn()\n",
    "vgg16.load_state_dict(torch.load(\"../input/vgg16bn/vgg16_bn.pth\"))\n",
    "print(vgg16.classifier[6].out_features) # 1000 \n",
    "\n",
    "\n",
    "# Freeze training for all layers\n",
    "for param in vgg16.features.parameters():\n",
    "    param.require_grad = False\n",
    "\n",
    "# Newly created modules have require_grad=True by default\n",
    "num_features = vgg16.classifier[6].in_features\n",
    "features = list(vgg16.classifier.children())[:-1] # Remove last layer\n",
    "features.extend([nn.Linear(num_features, len(class_names))]) # Add our layer with 4 outputs\n",
    "vgg16.classifier = nn.Sequential(*features) # Replace the model classifier"
   ]
  },
  {
   "cell_type": "markdown",
   "id": "58e4078e",
   "metadata": {
    "papermill": {
     "duration": 0.028321,
     "end_time": "2021-11-28T14:49:01.737770",
     "exception": false,
     "start_time": "2021-11-28T14:49:01.709449",
     "status": "completed"
    },
    "tags": []
   },
   "source": [
    "The output above is the summary of our model. Notice how the last layer has 4 output features as we specified."
   ]
  },
  {
   "cell_type": "code",
   "execution_count": 8,
   "id": "f3bb9938",
   "metadata": {
    "execution": {
     "iopub.execute_input": "2021-11-28T14:49:01.800554Z",
     "iopub.status.busy": "2021-11-28T14:49:01.799397Z",
     "iopub.status.idle": "2021-11-28T14:49:01.802151Z",
     "shell.execute_reply": "2021-11-28T14:49:01.802724Z",
     "shell.execute_reply.started": "2021-11-28T14:19:02.895293Z"
    },
    "papermill": {
     "duration": 0.036549,
     "end_time": "2021-11-28T14:49:01.802868",
     "exception": false,
     "start_time": "2021-11-28T14:49:01.766319",
     "status": "completed"
    },
    "tags": []
   },
   "outputs": [],
   "source": [
    "# If you want to train the model for more than 10 epochs, set this to True after the first run\n",
    "resume_training = False\n",
    "\n",
    "if resume_training:\n",
    "    print(\"Loading pretrained model..\")\n",
    "    vgg16.load_state_dict(torch.load('../input/vgg16-transfer-learning-pytorch/VGG16_v2-OCT_Retina.pt'))\n",
    "    print(\"Loaded!\")"
   ]
  },
  {
   "cell_type": "code",
   "execution_count": 9,
   "id": "dc4d75bf",
   "metadata": {
    "execution": {
     "iopub.execute_input": "2021-11-28T14:49:01.921128Z",
     "iopub.status.busy": "2021-11-28T14:49:01.920229Z",
     "iopub.status.idle": "2021-11-28T14:49:05.810886Z",
     "shell.execute_reply": "2021-11-28T14:49:05.810341Z",
     "shell.execute_reply.started": "2021-11-28T14:19:02.901563Z"
    },
    "papermill": {
     "duration": 3.979025,
     "end_time": "2021-11-28T14:49:05.811072",
     "exception": false,
     "start_time": "2021-11-28T14:49:01.832047",
     "status": "completed"
    },
    "tags": []
   },
   "outputs": [],
   "source": [
    "use_gpu = torch.cuda.is_available()\n",
    "#if use_gpu:\n",
    "#    vgg16.cuda() #.cuda() will move everything to the GPU side\n",
    "    \n",
    "#criterion = nn.CrossEntropyLoss()\n",
    "\n",
    "#optimizer_ft = optim.SGD(vgg16.parameters(), lr=0.01, momentum=0.9)\n",
    "#exp_lr_scheduler = lr_scheduler.StepLR(optimizer_ft, step_size=1, gamma=0.1)\n",
    "if use_gpu:\n",
    "    vgg16.cuda() #.cuda() will move everything to the GPU side\n",
    "    \n",
    "criterion = nn.CrossEntropyLoss()\n",
    "\n",
    "optimizer_ft = optim.SGD(vgg16.parameters(), lr=0.001, momentum=0.9)\n",
    "exp_lr_scheduler = lr_scheduler.StepLR(optimizer_ft, step_size=7, gamma=0.1)"
   ]
  },
  {
   "cell_type": "markdown",
   "id": "0f5ad65d",
   "metadata": {
    "papermill": {
     "duration": 0.029279,
     "end_time": "2021-11-28T14:49:05.870222",
     "exception": false,
     "start_time": "2021-11-28T14:49:05.840943",
     "status": "completed"
    },
    "tags": []
   },
   "source": [
    "# Training"
   ]
  },
  {
   "cell_type": "markdown",
   "id": "acbccf2b",
   "metadata": {
    "papermill": {
     "duration": 0.028931,
     "end_time": "2021-11-28T14:49:05.928073",
     "exception": false,
     "start_time": "2021-11-28T14:49:05.899142",
     "status": "completed"
    },
    "tags": []
   },
   "source": [
    "For every epoch we iterate over all the training batches, compute the loss , and adjust the network weights with loss.backward() and optimizer.step(). Then we evaluate the performance over the validaton set. At the end of every epoch we print the network progress (loss and accuracy). The accuracy will tell us how many predictions were correct.\n",
    "\n",
    "As we said before, transfer learning can work on smaller dataset too, so for every epoch we only iterate over half the trainig dataset (worth noting that it won't exactly be half of it over the entire training, as the data is shuffled, but it will almost certainly be a subset)"
   ]
  },
  {
   "cell_type": "code",
   "execution_count": 10,
   "id": "5586e698",
   "metadata": {
    "execution": {
     "iopub.execute_input": "2021-11-28T14:49:06.004247Z",
     "iopub.status.busy": "2021-11-28T14:49:06.002470Z",
     "iopub.status.idle": "2021-11-28T14:49:06.005072Z",
     "shell.execute_reply": "2021-11-28T14:49:06.005587Z",
     "shell.execute_reply.started": "2021-11-28T14:19:05.812302Z"
    },
    "papermill": {
     "duration": 0.048518,
     "end_time": "2021-11-28T14:49:06.005749",
     "exception": false,
     "start_time": "2021-11-28T14:49:05.957231",
     "status": "completed"
    },
    "tags": []
   },
   "outputs": [],
   "source": [
    "def train_model(vgg, criterion, optimizer, scheduler, num_epochs=5):\n",
    "    since = time.time()\n",
    "    best_model_wts = copy.deepcopy(vgg.state_dict())\n",
    "    best_acc = 0.0\n",
    "    \n",
    "    avg_loss = 0\n",
    "    avg_acc = 0\n",
    "    avg_loss_val = 0\n",
    "    avg_acc_val = 0\n",
    "    \n",
    "    train_batches = len(dataloaders[TRAIN])\n",
    "    #val_batches = len(dataloaders[VAL])\n",
    "    loss_values = []\n",
    "    acc_values = []\n",
    "    for epoch in range(num_epochs):\n",
    "        print(\"Epoch {}/{}\".format(epoch, num_epochs))\n",
    "        print('-' * 10)\n",
    "        \n",
    "        loss_train = 0\n",
    "        loss_val = 0\n",
    "        acc_train = 0\n",
    "#         acc_val = 0\n",
    "        \n",
    "        vgg.train(True)\n",
    "        \n",
    "        for i, data in enumerate(dataloaders[TRAIN]):\n",
    "            \n",
    "            print(\"\\rTraining batch {}/{}\".format(i+1, train_batches), end='', flush=True)\n",
    "                \n",
    "            \n",
    "                \n",
    "            inputs, labels,_= data\n",
    "            \n",
    "            if use_gpu:\n",
    "                inputs, labels = Variable(inputs.cuda()), Variable(labels.cuda())\n",
    "            else:\n",
    "                inputs, labels = Variable(inputs), Variable(labels)\n",
    "            \n",
    "            optimizer.zero_grad()\n",
    "            \n",
    "            outputs = vgg(inputs)\n",
    "            \n",
    "            _, preds = torch.max(outputs.data, 1)\n",
    "            loss = criterion(outputs, labels)\n",
    "            \n",
    "            loss.backward()\n",
    "            optimizer.step()\n",
    "            \n",
    "            loss_train += loss.data\n",
    "            acc_train += torch.sum(preds == labels.data)\n",
    "            \n",
    "            del inputs, labels, outputs, preds\n",
    "            torch.cuda.empty_cache()\n",
    "        \n",
    "        print()\n",
    "        # * 2 as we only used half of the dataset\n",
    "        avg_loss = loss_train  / dataset_sizes[TRAIN]\n",
    "        avg_acc = acc_train  / dataset_sizes[TRAIN]\n",
    "        loss_values.append(avg_loss)\n",
    "        acc_values.append(avg_acc)\n",
    "        vgg.train(False)\n",
    "        vgg.eval()\n",
    "            \n",
    "\n",
    "        \n",
    "        print()\n",
    "        print(\"Epoch {} result: \".format(epoch))\n",
    "        print(\"Avg loss (train): {:.4f}\".format(avg_loss))\n",
    "        print(\"Avg acc (train): {:.4f}\".format(avg_acc))\n",
    "\n",
    "        print('-' * 10)\n",
    "        print()\n",
    "        \n",
    "        if avg_acc > best_acc:\n",
    "            best_acc = avg_acc\n",
    "            best_model_wts = copy.deepcopy(vgg.state_dict())\n",
    "        \n",
    "    elapsed_time = time.time() - since\n",
    "    print()\n",
    "    print(\"Training completed in {:.0f}m {:.0f}s\".format(elapsed_time // 60, elapsed_time % 60))\n",
    "    print(\"Best acc: {:.4f}\".format(best_acc))\n",
    "    \n",
    "    vgg.load_state_dict(best_model_wts)\n",
    "    return vgg,acc_values,loss_values"
   ]
  },
  {
   "cell_type": "code",
   "execution_count": 11,
   "id": "13500cf4",
   "metadata": {
    "execution": {
     "iopub.execute_input": "2021-11-28T14:49:06.069426Z",
     "iopub.status.busy": "2021-11-28T14:49:06.068733Z",
     "iopub.status.idle": "2021-11-28T15:11:25.105481Z",
     "shell.execute_reply": "2021-11-28T15:11:25.104470Z",
     "shell.execute_reply.started": "2021-11-28T14:19:05.828600Z"
    },
    "papermill": {
     "duration": 1339.070887,
     "end_time": "2021-11-28T15:11:25.105651",
     "exception": false,
     "start_time": "2021-11-28T14:49:06.034764",
     "status": "completed"
    },
    "tags": []
   },
   "outputs": [
    {
     "name": "stdout",
     "output_type": "stream",
     "text": [
      "Epoch 0/10\n",
      "----------\n",
      "Training batch 840/840\n",
      "\n",
      "Epoch 0 result: \n",
      "Avg loss (train): 0.0788\n",
      "Avg acc (train): 0.7229\n",
      "----------\n",
      "\n",
      "Epoch 1/10\n",
      "----------\n",
      "Training batch 840/840\n",
      "\n",
      "Epoch 1 result: \n",
      "Avg loss (train): 0.0430\n",
      "Avg acc (train): 0.8586\n",
      "----------\n",
      "\n",
      "Epoch 2/10\n",
      "----------\n",
      "Training batch 840/840\n",
      "\n",
      "Epoch 2 result: \n",
      "Avg loss (train): 0.0317\n",
      "Avg acc (train): 0.8965\n",
      "----------\n",
      "\n",
      "Epoch 3/10\n",
      "----------\n",
      "Training batch 840/840\n",
      "\n",
      "Epoch 3 result: \n",
      "Avg loss (train): 0.0287\n",
      "Avg acc (train): 0.9059\n",
      "----------\n",
      "\n",
      "Epoch 4/10\n",
      "----------\n",
      "Training batch 840/840\n",
      "\n",
      "Epoch 4 result: \n",
      "Avg loss (train): 0.0258\n",
      "Avg acc (train): 0.9129\n",
      "----------\n",
      "\n",
      "Epoch 5/10\n",
      "----------\n",
      "Training batch 840/840\n",
      "\n",
      "Epoch 5 result: \n",
      "Avg loss (train): 0.0233\n",
      "Avg acc (train): 0.9204\n",
      "----------\n",
      "\n",
      "Epoch 6/10\n",
      "----------\n",
      "Training batch 840/840\n",
      "\n",
      "Epoch 6 result: \n",
      "Avg loss (train): 0.0208\n",
      "Avg acc (train): 0.9346\n",
      "----------\n",
      "\n",
      "Epoch 7/10\n",
      "----------\n",
      "Training batch 840/840\n",
      "\n",
      "Epoch 7 result: \n",
      "Avg loss (train): 0.0211\n",
      "Avg acc (train): 0.9326\n",
      "----------\n",
      "\n",
      "Epoch 8/10\n",
      "----------\n",
      "Training batch 840/840\n",
      "\n",
      "Epoch 8 result: \n",
      "Avg loss (train): 0.0190\n",
      "Avg acc (train): 0.9378\n",
      "----------\n",
      "\n",
      "Epoch 9/10\n",
      "----------\n",
      "Training batch 840/840\n",
      "\n",
      "Epoch 9 result: \n",
      "Avg loss (train): 0.0186\n",
      "Avg acc (train): 0.9384\n",
      "----------\n",
      "\n",
      "\n",
      "Training completed in 22m 18s\n",
      "Best acc: 0.9384\n"
     ]
    }
   ],
   "source": [
    "vgg16,acc,loss = train_model(vgg16, criterion, optimizer_ft, exp_lr_scheduler, num_epochs=10)\n",
    "torch.save(vgg16.state_dict(),'VGG19_echocardiogram.pt')"
   ]
  },
  {
   "cell_type": "markdown",
   "id": "a0af73eb",
   "metadata": {
    "papermill": {
     "duration": 2.932929,
     "end_time": "2021-11-28T15:11:31.305051",
     "exception": false,
     "start_time": "2021-11-28T15:11:28.372122",
     "status": "completed"
    },
    "tags": []
   },
   "source": [
    "# Model evaluation and visualization (after training)\n",
    "Let's evaluate our model again after 10 epochs of training"
   ]
  },
  {
   "cell_type": "code",
   "execution_count": 12,
   "id": "a32362de",
   "metadata": {
    "execution": {
     "iopub.execute_input": "2021-11-28T15:11:38.146612Z",
     "iopub.status.busy": "2021-11-28T15:11:38.145420Z",
     "iopub.status.idle": "2021-11-28T15:11:56.879371Z",
     "shell.execute_reply": "2021-11-28T15:11:56.879921Z",
     "shell.execute_reply.started": "2021-11-28T14:40:09.175431Z"
    },
    "papermill": {
     "duration": 22.716388,
     "end_time": "2021-11-28T15:11:56.880170",
     "exception": false,
     "start_time": "2021-11-28T15:11:34.163782",
     "status": "completed"
    },
    "tags": []
   },
   "outputs": [
    {
     "name": "stdout",
     "output_type": "stream",
     "text": [
      "Evaluating model\n",
      "----------\n",
      "Test batch 0/201"
     ]
    },
    {
     "name": "stderr",
     "output_type": "stream",
     "text": [
      "/opt/conda/lib/python3.7/site-packages/ipykernel_launcher.py:26: UserWarning: volatile was removed and now has no effect. Use `with torch.no_grad():` instead.\n"
     ]
    },
    {
     "name": "stdout",
     "output_type": "stream",
     "text": [
      "Test batch 200/201\n",
      "Evaluation completed in 0m 19s\n",
      "Avg loss (test): 0.0777\n",
      "Avg acc (test): 0.8531\n",
      "----------\n"
     ]
    }
   ],
   "source": [
    "y_true,y_pred,vid_code = eval_model(vgg16, criterion)"
   ]
  },
  {
   "cell_type": "code",
   "execution_count": 13,
   "id": "d72e523e",
   "metadata": {
    "execution": {
     "iopub.execute_input": "2021-11-28T15:12:03.034718Z",
     "iopub.status.busy": "2021-11-28T15:12:03.033804Z",
     "iopub.status.idle": "2021-11-28T15:12:03.037840Z",
     "shell.execute_reply": "2021-11-28T15:12:03.038760Z",
     "shell.execute_reply.started": "2021-11-28T14:40:26.179706Z"
    },
    "papermill": {
     "duration": 2.902276,
     "end_time": "2021-11-28T15:12:03.038998",
     "exception": false,
     "start_time": "2021-11-28T15:12:00.136722",
     "status": "completed"
    },
    "tags": []
   },
   "outputs": [
    {
     "name": "stdout",
     "output_type": "stream",
     "text": [
      "1607\n",
      "1607\n"
     ]
    }
   ],
   "source": [
    "print(len(y_true)) \n",
    "print(len(y_pred))"
   ]
  },
  {
   "cell_type": "markdown",
   "id": "4f8296ab",
   "metadata": {
    "papermill": {
     "duration": 2.90507,
     "end_time": "2021-11-28T15:12:08.855669",
     "exception": false,
     "start_time": "2021-11-28T15:12:05.950599",
     "status": "completed"
    },
    "tags": []
   },
   "source": [
    "# Visualize our model"
   ]
  },
  {
   "cell_type": "code",
   "execution_count": 14,
   "id": "dbb36d01",
   "metadata": {
    "execution": {
     "iopub.execute_input": "2021-11-28T15:12:15.747695Z",
     "iopub.status.busy": "2021-11-28T15:12:15.746926Z",
     "iopub.status.idle": "2021-11-28T15:12:17.627893Z",
     "shell.execute_reply": "2021-11-28T15:12:17.627311Z",
     "shell.execute_reply.started": "2021-11-28T14:40:26.187003Z"
    },
    "papermill": {
     "duration": 4.821802,
     "end_time": "2021-11-28T15:12:17.628099",
     "exception": false,
     "start_time": "2021-11-28T15:12:12.806297",
     "status": "completed"
    },
    "tags": []
   },
   "outputs": [
    {
     "name": "stderr",
     "output_type": "stream",
     "text": [
      "/opt/conda/lib/python3.7/site-packages/ipykernel_launcher.py:15: UserWarning: volatile was removed and now has no effect. Use `with torch.no_grad():` instead.\n",
      "  from ipykernel import kernelapp as app\n"
     ]
    },
    {
     "name": "stdout",
     "output_type": "stream",
     "text": [
      "Ground truth:\n"
     ]
    },
    {
     "data": {
      "image/png": "[encoded data removed]",
      "text/plain": [
       "<Figure size 432x288 with 1 Axes>"
      ]
     },
     "metadata": {
      "needs_background": "light"
     },
     "output_type": "display_data"
    },
    {
     "name": "stdout",
     "output_type": "stream",
     "text": [
      "Prediction:\n"
     ]
    },
    {
     "data": {
      "image/png": "[encoded data removed]",
      "text/plain": [
       "<Figure size 432x288 with 1 Axes>"
      ]
     },
     "metadata": {
      "needs_background": "light"
     },
     "output_type": "display_data"
    },
    {
     "name": "stdout",
     "output_type": "stream",
     "text": [
      "Ground truth:\n"
     ]
    },
    {
     "data": {
      "image/png": "[encoded data removed]",
      "text/plain": [
       "<Figure size 432x288 with 1 Axes>"
      ]
     },
     "metadata": {
      "needs_background": "light"
     },
     "output_type": "display_data"
    },
    {
     "name": "stdout",
     "output_type": "stream",
     "text": [
      "Prediction:\n"
     ]
    },
    {
     "data": {
      "image/png": "[encoded data removed]",
      "text/plain": [
       "<Figure size 432x288 with 1 Axes>"
      ]
     },
     "metadata": {
      "needs_background": "light"
     },
     "output_type": "display_data"
    }
   ],
   "source": [
    "visualize_model(vgg16, num_images=16)"
   ]
  },
  {
   "cell_type": "code",
   "execution_count": 15,
   "id": "e3bb4fa5",
   "metadata": {
    "execution": {
     "iopub.execute_input": "2021-11-28T15:12:23.806534Z",
     "iopub.status.busy": "2021-11-28T15:12:23.805722Z",
     "iopub.status.idle": "2021-11-28T15:12:24.113308Z",
     "shell.execute_reply": "2021-11-28T15:12:24.112312Z",
     "shell.execute_reply.started": "2021-11-28T14:40:27.946508Z"
    },
    "papermill": {
     "duration": 3.530189,
     "end_time": "2021-11-28T15:12:24.113542",
     "exception": false,
     "start_time": "2021-11-28T15:12:20.583353",
     "status": "completed"
    },
    "tags": []
   },
   "outputs": [
    {
     "name": "stdout",
     "output_type": "stream",
     "text": [
      "              precision    recall  f1-score   support\n",
      "\n",
      "           0       0.94      0.81      0.87       409\n",
      "           1       0.67      0.93      0.78       367\n",
      "           2       0.93      0.84      0.88       831\n",
      "\n",
      "    accuracy                           0.85      1607\n",
      "   macro avg       0.85      0.86      0.85      1607\n",
      "weighted avg       0.88      0.85      0.86      1607\n",
      "\n",
      "0.8531425015556938\n"
     ]
    }
   ],
   "source": [
    "from sklearn.metrics import accuracy_score,classification_report\n",
    "print(classification_report(y_true,y_pred))\n",
    "print(accuracy_score(y_true,y_pred))"
   ]
  },
  {
   "cell_type": "markdown",
   "id": "9446ae61",
   "metadata": {
    "papermill": {
     "duration": 2.935564,
     "end_time": "2021-11-28T15:12:29.980864",
     "exception": false,
     "start_time": "2021-11-28T15:12:27.045300",
     "status": "completed"
    },
    "tags": []
   },
   "source": [
    "# Check out test data"
   ]
  },
  {
   "cell_type": "code",
   "execution_count": 16,
   "id": "58db78c8",
   "metadata": {
    "execution": {
     "iopub.execute_input": "2021-11-28T15:12:36.212971Z",
     "iopub.status.busy": "2021-11-28T15:12:36.211798Z",
     "iopub.status.idle": "2021-11-28T15:12:36.221616Z",
     "shell.execute_reply": "2021-11-28T15:12:36.220998Z",
     "shell.execute_reply.started": "2021-11-28T14:40:28.223303Z"
    },
    "papermill": {
     "duration": 2.925034,
     "end_time": "2021-11-28T15:12:36.221797",
     "exception": false,
     "start_time": "2021-11-28T15:12:33.296763",
     "status": "completed"
    },
    "tags": []
   },
   "outputs": [],
   "source": [
    "import pandas as pd\n",
    "import glob\n",
    "\n",
    "\n",
    "df = pd.DataFrame(list(zip(y_true,y_pred,vid_code)),columns =['y_true','y_pred','vid_id'])\n",
    "df.to_csv('df.csv',encoding='utf-8',index=False)"
   ]
  },
  {
   "cell_type": "code",
   "execution_count": 17,
   "id": "ad18fcbb",
   "metadata": {
    "execution": {
     "iopub.execute_input": "2021-11-28T15:12:42.054904Z",
     "iopub.status.busy": "2021-11-28T15:12:42.054010Z",
     "iopub.status.idle": "2021-11-28T15:12:42.068055Z",
     "shell.execute_reply": "2021-11-28T15:12:42.068760Z",
     "shell.execute_reply.started": "2021-11-28T14:40:28.241045Z"
    },
    "papermill": {
     "duration": 2.951096,
     "end_time": "2021-11-28T15:12:42.068922",
     "exception": false,
     "start_time": "2021-11-28T15:12:39.117826",
     "status": "completed"
    },
    "tags": []
   },
   "outputs": [
    {
     "data": {
      "text/html": [
       "<div>\n",
       "<style scoped>\n",
       "    .dataframe tbody tr th:only-of-type {\n",
       "        vertical-align: middle;\n",
       "    }\n",
       "\n",
       "    .dataframe tbody tr th {\n",
       "        vertical-align: top;\n",
       "    }\n",
       "\n",
       "    .dataframe thead th {\n",
       "        text-align: right;\n",
       "    }\n",
       "</style>\n",
       "<table border=\"1\" class=\"dataframe\">\n",
       "  <thead>\n",
       "    <tr style=\"text-align: right;\">\n",
       "      <th></th>\n",
       "      <th>y_true</th>\n",
       "      <th>y_pred</th>\n",
       "      <th>vid_id</th>\n",
       "    </tr>\n",
       "  </thead>\n",
       "  <tbody>\n",
       "    <tr>\n",
       "      <th>0</th>\n",
       "      <td>2</td>\n",
       "      <td>2</td>\n",
       "      <td>160</td>\n",
       "    </tr>\n",
       "    <tr>\n",
       "      <th>1</th>\n",
       "      <td>2</td>\n",
       "      <td>1</td>\n",
       "      <td>187</td>\n",
       "    </tr>\n",
       "    <tr>\n",
       "      <th>2</th>\n",
       "      <td>2</td>\n",
       "      <td>1</td>\n",
       "      <td>167</td>\n",
       "    </tr>\n",
       "    <tr>\n",
       "      <th>3</th>\n",
       "      <td>0</td>\n",
       "      <td>0</td>\n",
       "      <td>178</td>\n",
       "    </tr>\n",
       "    <tr>\n",
       "      <th>4</th>\n",
       "      <td>2</td>\n",
       "      <td>2</td>\n",
       "      <td>184</td>\n",
       "    </tr>\n",
       "    <tr>\n",
       "      <th>5</th>\n",
       "      <td>1</td>\n",
       "      <td>1</td>\n",
       "      <td>162</td>\n",
       "    </tr>\n",
       "    <tr>\n",
       "      <th>6</th>\n",
       "      <td>2</td>\n",
       "      <td>1</td>\n",
       "      <td>187</td>\n",
       "    </tr>\n",
       "    <tr>\n",
       "      <th>7</th>\n",
       "      <td>2</td>\n",
       "      <td>2</td>\n",
       "      <td>163</td>\n",
       "    </tr>\n",
       "    <tr>\n",
       "      <th>8</th>\n",
       "      <td>0</td>\n",
       "      <td>0</td>\n",
       "      <td>158</td>\n",
       "    </tr>\n",
       "    <tr>\n",
       "      <th>9</th>\n",
       "      <td>2</td>\n",
       "      <td>1</td>\n",
       "      <td>187</td>\n",
       "    </tr>\n",
       "  </tbody>\n",
       "</table>\n",
       "</div>"
      ],
      "text/plain": [
       "   y_true  y_pred vid_id\n",
       "0       2       2    160\n",
       "1       2       1    187\n",
       "2       2       1    167\n",
       "3       0       0    178\n",
       "4       2       2    184\n",
       "5       1       1    162\n",
       "6       2       1    187\n",
       "7       2       2    163\n",
       "8       0       0    158\n",
       "9       2       1    187"
      ]
     },
     "execution_count": 17,
     "metadata": {},
     "output_type": "execute_result"
    }
   ],
   "source": [
    "df.head(10)"
   ]
  },
  {
   "cell_type": "code",
   "execution_count": 18,
   "id": "bd83ec29",
   "metadata": {
    "execution": {
     "iopub.execute_input": "2021-11-28T15:12:49.023693Z",
     "iopub.status.busy": "2021-11-28T15:12:49.022975Z",
     "iopub.status.idle": "2021-11-28T15:12:49.032085Z",
     "shell.execute_reply": "2021-11-28T15:12:49.031509Z",
     "shell.execute_reply.started": "2021-11-28T14:40:28.258723Z"
    },
    "papermill": {
     "duration": 2.895271,
     "end_time": "2021-11-28T15:12:49.032228",
     "exception": false,
     "start_time": "2021-11-28T15:12:46.136957",
     "status": "completed"
    },
    "tags": []
   },
   "outputs": [],
   "source": [
    "from statistics import mode\n",
    "vid_list = list(set(df['vid_id'].values))"
   ]
  },
  {
   "cell_type": "code",
   "execution_count": 19,
   "id": "057921d2",
   "metadata": {
    "execution": {
     "iopub.execute_input": "2021-11-28T15:12:55.232417Z",
     "iopub.status.busy": "2021-11-28T15:12:55.231547Z",
     "iopub.status.idle": "2021-11-28T15:12:55.235610Z",
     "shell.execute_reply": "2021-11-28T15:12:55.236192Z",
     "shell.execute_reply.started": "2021-11-28T14:40:28.268607Z"
    },
    "papermill": {
     "duration": 3.257109,
     "end_time": "2021-11-28T15:12:55.236364",
     "exception": false,
     "start_time": "2021-11-28T15:12:51.979255",
     "status": "completed"
    },
    "tags": []
   },
   "outputs": [
    {
     "name": "stdout",
     "output_type": "stream",
     "text": [
      "['169', '166', '184', '172', '165', '157', '160', '187', '181', '192', '185', '183', '159', '173', '189', '174', '171', '186', '176', '182', '161', '178', '164', '179', '194', '175', '163', '191', '170', '188', '158', '168', '167', '177', '195', '180', '162', '193', '190']\n"
     ]
    }
   ],
   "source": [
    "print(vid_list)"
   ]
  },
  {
   "cell_type": "code",
   "execution_count": 20,
   "id": "731f621a",
   "metadata": {
    "execution": {
     "iopub.execute_input": "2021-11-28T15:13:01.083351Z",
     "iopub.status.busy": "2021-11-28T15:13:01.076440Z",
     "iopub.status.idle": "2021-11-28T15:13:01.134670Z",
     "shell.execute_reply": "2021-11-28T15:13:01.134050Z",
     "shell.execute_reply.started": "2021-11-28T14:40:28.276512Z"
    },
    "papermill": {
     "duration": 2.998398,
     "end_time": "2021-11-28T15:13:01.134847",
     "exception": false,
     "start_time": "2021-11-28T15:12:58.136449",
     "status": "completed"
    },
    "tags": []
   },
   "outputs": [],
   "source": [
    "y_true = []\n",
    "y_pred = []\n",
    "for vid in vid_list:\n",
    "    #print(vid)\n",
    "    tmp_df = df[df['vid_id']==vid]\n",
    "    #print(len(tmp_df))\n",
    "    vid_pred = tmp_df['y_pred'].mode().values[0]\n",
    "    vid_label = tmp_df['y_true'].mode().values[0]\n",
    "    y_true.append(vid_label)\n",
    "    y_pred.append(vid_pred)"
   ]
  },
  {
   "cell_type": "code",
   "execution_count": 21,
   "id": "2637f1ba",
   "metadata": {
    "execution": {
     "iopub.execute_input": "2021-11-28T15:13:07.289696Z",
     "iopub.status.busy": "2021-11-28T15:13:07.288529Z",
     "iopub.status.idle": "2021-11-28T15:13:07.295361Z",
     "shell.execute_reply": "2021-11-28T15:13:07.294650Z",
     "shell.execute_reply.started": "2021-11-28T14:40:28.333886Z"
    },
    "papermill": {
     "duration": 3.232269,
     "end_time": "2021-11-28T15:13:07.295511",
     "exception": false,
     "start_time": "2021-11-28T15:13:04.063242",
     "status": "completed"
    },
    "tags": []
   },
   "outputs": [
    {
     "data": {
      "text/plain": [
       "0.8974358974358975"
      ]
     },
     "execution_count": 21,
     "metadata": {},
     "output_type": "execute_result"
    }
   ],
   "source": [
    "accuracy_score(y_true,y_pred)"
   ]
  },
  {
   "cell_type": "markdown",
   "id": "2a4723c5",
   "metadata": {
    "papermill": {
     "duration": 2.882699,
     "end_time": "2021-11-28T15:13:13.142339",
     "exception": false,
     "start_time": "2021-11-28T15:13:10.259640",
     "status": "completed"
    },
    "tags": []
   },
   "source": [
    "# Plot training history"
   ]
  },
  {
   "cell_type": "code",
   "execution_count": 22,
   "id": "ba64899c",
   "metadata": {
    "execution": {
     "iopub.execute_input": "2021-11-28T15:13:20.041671Z",
     "iopub.status.busy": "2021-11-28T15:13:20.040552Z",
     "iopub.status.idle": "2021-11-28T15:13:20.044268Z",
     "shell.execute_reply": "2021-11-28T15:13:20.043515Z",
     "shell.execute_reply.started": "2021-11-28T14:40:28.342278Z"
    },
    "papermill": {
     "duration": 3.176468,
     "end_time": "2021-11-28T15:13:20.044409",
     "exception": false,
     "start_time": "2021-11-28T15:13:16.867941",
     "status": "completed"
    },
    "tags": []
   },
   "outputs": [],
   "source": [
    "def plot_history(history,loss,acc): \n",
    "    fig, ax1 = plt.subplots()\n",
    "    \n",
    "    ax1.plot(loss, 'r', label=\"training loss\")\n",
    "    ax1.grid(True)\n",
    "    ax1.set_xlabel('iteration')\n",
    "    ax1.set_ylabel('loss', color='r')\n",
    "    ax1.legend(loc=\"lower right\", fontsize=9)    \n",
    "    ax1.tick_params('y', colors='r')\n",
    "\n",
    "    ax2 = ax1.twinx()\n",
    "    ax2.plot(acc, 'b', label=\"training acc\")\n",
    "    ax2.legend(loc=\"upper right\", fontsize=9)\n",
    "    ax2.set_ylabel('acc', color='b')        \n",
    "    ax2.tick_params('y', colors='b')"
   ]
  },
  {
   "cell_type": "code",
   "execution_count": 23,
   "id": "c8ab1ca0",
   "metadata": {
    "execution": {
     "iopub.execute_input": "2021-11-28T15:13:25.885972Z",
     "iopub.status.busy": "2021-11-28T15:13:25.881626Z",
     "iopub.status.idle": "2021-11-28T15:13:26.247673Z",
     "shell.execute_reply": "2021-11-28T15:13:26.248252Z",
     "shell.execute_reply.started": "2021-11-28T14:40:28.352075Z"
    },
    "papermill": {
     "duration": 3.2904,
     "end_time": "2021-11-28T15:13:26.248440",
     "exception": false,
     "start_time": "2021-11-28T15:13:22.958040",
     "status": "completed"
    },
    "tags": []
   },
   "outputs": [
    {
     "data": {
      "image/png": "[encoded data removed]",
      "text/plain": [
       "<Figure size 432x288 with 2 Axes>"
      ]
     },
     "metadata": {
      "needs_background": "light"
     },
     "output_type": "display_data"
    }
   ],
   "source": [
    "plot_history(vgg16,loss,acc)"
   ]
  }
 ],
 "metadata": {
  "kernelspec": {
   "display_name": "Python 3",
   "language": "python",
   "name": "python3"
  },
  "language_info": {
   "codemirror_mode": {
    "name": "ipython",
    "version": 3
   },
   "file_extension": ".py",
   "mimetype": "text/x-python",
   "name": "python",
   "nbconvert_exporter": "python",
   "pygments_lexer": "ipython3",
   "version": "3.7.10"
  },
  "papermill": {
   "default_parameters": {},
   "duration": 1500.26385,
   "end_time": "2021-11-28T15:13:31.708683",
   "environment_variables": {},
   "exception": null,
   "input_path": "__notebook__.ipynb",
   "output_path": "__notebook__.ipynb",
   "parameters": {},
   "start_time": "2021-11-28T14:48:31.444833",
   "version": "2.3.3"
  }
 },
 "nbformat": 4,
 "nbformat_minor": 5
}
